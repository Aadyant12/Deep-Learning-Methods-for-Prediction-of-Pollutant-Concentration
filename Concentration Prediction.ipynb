{
  "cells": [
    {
      "cell_type": "code",
      "execution_count": 1,
      "metadata": {
        "id": "rzTPxELFIy2q"
      },
      "outputs": [],
      "source": [
        "import os\n",
        "\n",
        "import pandas as pd\n",
        "import numpy as np\n",
        "import matplotlib.pyplot as plt\n",
        "\n",
        "from sklearn.preprocessing import StandardScaler, MinMaxScaler\n",
        "from sklearn.metrics import mean_absolute_error, mean_squared_error, r2_score\n",
        "import math\n",
        "\n",
        "from keras.layers import Dense, LSTM, Dropout, Input, Flatten, Conv1D, BatchNormalization, Concatenate\n",
        "from keras.models import Model, load_model\n",
        "from tensorflow.keras.utils import plot_model"
      ]
    },
    {
      "cell_type": "markdown",
      "source": [
        "# Data Compilation"
      ],
      "metadata": {
        "id": "YuxYj5UIoUud"
      }
    },
    {
      "cell_type": "code",
      "execution_count": 6,
      "metadata": {
        "colab": {
          "base_uri": "https://localhost:8080/",
          "height": 956
        },
        "id": "NWvRWmC8Iy2x",
        "outputId": "dad17d80-72d3-4ed6-cf4b-43eb1344fd91"
      },
      "outputs": [
        {
          "output_type": "execute_result",
          "data": {
            "text/html": [
              "\n",
              "  <div id=\"df-b02dc41a-ef00-4e13-969e-32482837d027\">\n",
              "    <div class=\"colab-df-container\">\n",
              "      <div>\n",
              "<style scoped>\n",
              "    .dataframe tbody tr th:only-of-type {\n",
              "        vertical-align: middle;\n",
              "    }\n",
              "\n",
              "    .dataframe tbody tr th {\n",
              "        vertical-align: top;\n",
              "    }\n",
              "\n",
              "    .dataframe thead th {\n",
              "        text-align: right;\n",
              "    }\n",
              "</style>\n",
              "<table border=\"1\" class=\"dataframe\">\n",
              "  <thead>\n",
              "    <tr style=\"text-align: right;\">\n",
              "      <th></th>\n",
              "      <th>Date</th>\n",
              "      <th>Source</th>\n",
              "      <th>Site ID</th>\n",
              "      <th>POC</th>\n",
              "      <th>Daily Mean PM2.5 Concentration</th>\n",
              "      <th>UNITS</th>\n",
              "      <th>DAILY_AQI_VALUE</th>\n",
              "      <th>Site Name</th>\n",
              "      <th>DAILY_OBS_COUNT</th>\n",
              "      <th>PERCENT_COMPLETE</th>\n",
              "      <th>AQS_PARAMETER_CODE</th>\n",
              "      <th>AQS_PARAMETER_DESC</th>\n",
              "      <th>CBSA_CODE</th>\n",
              "      <th>CBSA_NAME</th>\n",
              "      <th>STATE_CODE</th>\n",
              "      <th>STATE</th>\n",
              "      <th>COUNTY_CODE</th>\n",
              "      <th>COUNTY</th>\n",
              "      <th>SITE_LATITUDE</th>\n",
              "      <th>SITE_LONGITUDE</th>\n",
              "    </tr>\n",
              "  </thead>\n",
              "  <tbody>\n",
              "    <tr>\n",
              "      <th>0</th>\n",
              "      <td>01/01/2021</td>\n",
              "      <td>AQS</td>\n",
              "      <td>320030024</td>\n",
              "      <td>3</td>\n",
              "      <td>3.0</td>\n",
              "      <td>ug/m3 LC</td>\n",
              "      <td>13</td>\n",
              "      <td>NaN</td>\n",
              "      <td>1</td>\n",
              "      <td>100.0</td>\n",
              "      <td>88101</td>\n",
              "      <td>PM2.5 - Local Conditions</td>\n",
              "      <td>29820</td>\n",
              "      <td>Las Vegas-Henderson-Paradise, NV</td>\n",
              "      <td>32</td>\n",
              "      <td>Nevada</td>\n",
              "      <td>3</td>\n",
              "      <td>Clark</td>\n",
              "      <td>36.815897</td>\n",
              "      <td>-114.050347</td>\n",
              "    </tr>\n",
              "    <tr>\n",
              "      <th>1</th>\n",
              "      <td>01/02/2021</td>\n",
              "      <td>AQS</td>\n",
              "      <td>320030024</td>\n",
              "      <td>3</td>\n",
              "      <td>5.3</td>\n",
              "      <td>ug/m3 LC</td>\n",
              "      <td>22</td>\n",
              "      <td>NaN</td>\n",
              "      <td>1</td>\n",
              "      <td>100.0</td>\n",
              "      <td>88101</td>\n",
              "      <td>PM2.5 - Local Conditions</td>\n",
              "      <td>29820</td>\n",
              "      <td>Las Vegas-Henderson-Paradise, NV</td>\n",
              "      <td>32</td>\n",
              "      <td>Nevada</td>\n",
              "      <td>3</td>\n",
              "      <td>Clark</td>\n",
              "      <td>36.815897</td>\n",
              "      <td>-114.050347</td>\n",
              "    </tr>\n",
              "    <tr>\n",
              "      <th>2</th>\n",
              "      <td>01/03/2021</td>\n",
              "      <td>AQS</td>\n",
              "      <td>320030024</td>\n",
              "      <td>3</td>\n",
              "      <td>4.1</td>\n",
              "      <td>ug/m3 LC</td>\n",
              "      <td>17</td>\n",
              "      <td>NaN</td>\n",
              "      <td>1</td>\n",
              "      <td>100.0</td>\n",
              "      <td>88101</td>\n",
              "      <td>PM2.5 - Local Conditions</td>\n",
              "      <td>29820</td>\n",
              "      <td>Las Vegas-Henderson-Paradise, NV</td>\n",
              "      <td>32</td>\n",
              "      <td>Nevada</td>\n",
              "      <td>3</td>\n",
              "      <td>Clark</td>\n",
              "      <td>36.815897</td>\n",
              "      <td>-114.050347</td>\n",
              "    </tr>\n",
              "    <tr>\n",
              "      <th>3</th>\n",
              "      <td>01/04/2021</td>\n",
              "      <td>AQS</td>\n",
              "      <td>320030024</td>\n",
              "      <td>3</td>\n",
              "      <td>4.5</td>\n",
              "      <td>ug/m3 LC</td>\n",
              "      <td>19</td>\n",
              "      <td>NaN</td>\n",
              "      <td>1</td>\n",
              "      <td>100.0</td>\n",
              "      <td>88101</td>\n",
              "      <td>PM2.5 - Local Conditions</td>\n",
              "      <td>29820</td>\n",
              "      <td>Las Vegas-Henderson-Paradise, NV</td>\n",
              "      <td>32</td>\n",
              "      <td>Nevada</td>\n",
              "      <td>3</td>\n",
              "      <td>Clark</td>\n",
              "      <td>36.815897</td>\n",
              "      <td>-114.050347</td>\n",
              "    </tr>\n",
              "    <tr>\n",
              "      <th>4</th>\n",
              "      <td>01/05/2021</td>\n",
              "      <td>AQS</td>\n",
              "      <td>320030024</td>\n",
              "      <td>3</td>\n",
              "      <td>3.8</td>\n",
              "      <td>ug/m3 LC</td>\n",
              "      <td>16</td>\n",
              "      <td>NaN</td>\n",
              "      <td>1</td>\n",
              "      <td>100.0</td>\n",
              "      <td>88101</td>\n",
              "      <td>PM2.5 - Local Conditions</td>\n",
              "      <td>29820</td>\n",
              "      <td>Las Vegas-Henderson-Paradise, NV</td>\n",
              "      <td>32</td>\n",
              "      <td>Nevada</td>\n",
              "      <td>3</td>\n",
              "      <td>Clark</td>\n",
              "      <td>36.815897</td>\n",
              "      <td>-114.050347</td>\n",
              "    </tr>\n",
              "    <tr>\n",
              "      <th>...</th>\n",
              "      <td>...</td>\n",
              "      <td>...</td>\n",
              "      <td>...</td>\n",
              "      <td>...</td>\n",
              "      <td>...</td>\n",
              "      <td>...</td>\n",
              "      <td>...</td>\n",
              "      <td>...</td>\n",
              "      <td>...</td>\n",
              "      <td>...</td>\n",
              "      <td>...</td>\n",
              "      <td>...</td>\n",
              "      <td>...</td>\n",
              "      <td>...</td>\n",
              "      <td>...</td>\n",
              "      <td>...</td>\n",
              "      <td>...</td>\n",
              "      <td>...</td>\n",
              "      <td>...</td>\n",
              "      <td>...</td>\n",
              "    </tr>\n",
              "    <tr>\n",
              "      <th>7364</th>\n",
              "      <td>06/03/2021</td>\n",
              "      <td>AQS</td>\n",
              "      <td>325100020</td>\n",
              "      <td>2</td>\n",
              "      <td>5.4</td>\n",
              "      <td>ug/m3 LC</td>\n",
              "      <td>23</td>\n",
              "      <td>Carson City Armory</td>\n",
              "      <td>1</td>\n",
              "      <td>100.0</td>\n",
              "      <td>88101</td>\n",
              "      <td>PM2.5 - Local Conditions</td>\n",
              "      <td>16180</td>\n",
              "      <td>Carson City, NV</td>\n",
              "      <td>32</td>\n",
              "      <td>Nevada</td>\n",
              "      <td>510</td>\n",
              "      <td>Carson City</td>\n",
              "      <td>39.144700</td>\n",
              "      <td>-119.766100</td>\n",
              "    </tr>\n",
              "    <tr>\n",
              "      <th>7365</th>\n",
              "      <td>06/09/2021</td>\n",
              "      <td>AQS</td>\n",
              "      <td>325100020</td>\n",
              "      <td>2</td>\n",
              "      <td>3.8</td>\n",
              "      <td>ug/m3 LC</td>\n",
              "      <td>16</td>\n",
              "      <td>Carson City Armory</td>\n",
              "      <td>1</td>\n",
              "      <td>100.0</td>\n",
              "      <td>88101</td>\n",
              "      <td>PM2.5 - Local Conditions</td>\n",
              "      <td>16180</td>\n",
              "      <td>Carson City, NV</td>\n",
              "      <td>32</td>\n",
              "      <td>Nevada</td>\n",
              "      <td>510</td>\n",
              "      <td>Carson City</td>\n",
              "      <td>39.144700</td>\n",
              "      <td>-119.766100</td>\n",
              "    </tr>\n",
              "    <tr>\n",
              "      <th>7366</th>\n",
              "      <td>06/15/2021</td>\n",
              "      <td>AQS</td>\n",
              "      <td>325100020</td>\n",
              "      <td>2</td>\n",
              "      <td>2.7</td>\n",
              "      <td>ug/m3 LC</td>\n",
              "      <td>11</td>\n",
              "      <td>Carson City Armory</td>\n",
              "      <td>1</td>\n",
              "      <td>100.0</td>\n",
              "      <td>88101</td>\n",
              "      <td>PM2.5 - Local Conditions</td>\n",
              "      <td>16180</td>\n",
              "      <td>Carson City, NV</td>\n",
              "      <td>32</td>\n",
              "      <td>Nevada</td>\n",
              "      <td>510</td>\n",
              "      <td>Carson City</td>\n",
              "      <td>39.144700</td>\n",
              "      <td>-119.766100</td>\n",
              "    </tr>\n",
              "    <tr>\n",
              "      <th>7367</th>\n",
              "      <td>06/21/2021</td>\n",
              "      <td>AQS</td>\n",
              "      <td>325100020</td>\n",
              "      <td>2</td>\n",
              "      <td>4.3</td>\n",
              "      <td>ug/m3 LC</td>\n",
              "      <td>18</td>\n",
              "      <td>Carson City Armory</td>\n",
              "      <td>1</td>\n",
              "      <td>100.0</td>\n",
              "      <td>88101</td>\n",
              "      <td>PM2.5 - Local Conditions</td>\n",
              "      <td>16180</td>\n",
              "      <td>Carson City, NV</td>\n",
              "      <td>32</td>\n",
              "      <td>Nevada</td>\n",
              "      <td>510</td>\n",
              "      <td>Carson City</td>\n",
              "      <td>39.144700</td>\n",
              "      <td>-119.766100</td>\n",
              "    </tr>\n",
              "    <tr>\n",
              "      <th>7368</th>\n",
              "      <td>06/27/2021</td>\n",
              "      <td>AQS</td>\n",
              "      <td>325100020</td>\n",
              "      <td>2</td>\n",
              "      <td>4.7</td>\n",
              "      <td>ug/m3 LC</td>\n",
              "      <td>20</td>\n",
              "      <td>Carson City Armory</td>\n",
              "      <td>1</td>\n",
              "      <td>100.0</td>\n",
              "      <td>88101</td>\n",
              "      <td>PM2.5 - Local Conditions</td>\n",
              "      <td>16180</td>\n",
              "      <td>Carson City, NV</td>\n",
              "      <td>32</td>\n",
              "      <td>Nevada</td>\n",
              "      <td>510</td>\n",
              "      <td>Carson City</td>\n",
              "      <td>39.144700</td>\n",
              "      <td>-119.766100</td>\n",
              "    </tr>\n",
              "  </tbody>\n",
              "</table>\n",
              "<p>7369 rows × 20 columns</p>\n",
              "</div>\n",
              "      <button class=\"colab-df-convert\" onclick=\"convertToInteractive('df-b02dc41a-ef00-4e13-969e-32482837d027')\"\n",
              "              title=\"Convert this dataframe to an interactive table.\"\n",
              "              style=\"display:none;\">\n",
              "        \n",
              "  <svg xmlns=\"http://www.w3.org/2000/svg\" height=\"24px\"viewBox=\"0 0 24 24\"\n",
              "       width=\"24px\">\n",
              "    <path d=\"M0 0h24v24H0V0z\" fill=\"none\"/>\n",
              "    <path d=\"M18.56 5.44l.94 2.06.94-2.06 2.06-.94-2.06-.94-.94-2.06-.94 2.06-2.06.94zm-11 1L8.5 8.5l.94-2.06 2.06-.94-2.06-.94L8.5 2.5l-.94 2.06-2.06.94zm10 10l.94 2.06.94-2.06 2.06-.94-2.06-.94-.94-2.06-.94 2.06-2.06.94z\"/><path d=\"M17.41 7.96l-1.37-1.37c-.4-.4-.92-.59-1.43-.59-.52 0-1.04.2-1.43.59L10.3 9.45l-7.72 7.72c-.78.78-.78 2.05 0 2.83L4 21.41c.39.39.9.59 1.41.59.51 0 1.02-.2 1.41-.59l7.78-7.78 2.81-2.81c.8-.78.8-2.07 0-2.86zM5.41 20L4 18.59l7.72-7.72 1.47 1.35L5.41 20z\"/>\n",
              "  </svg>\n",
              "      </button>\n",
              "      \n",
              "  <style>\n",
              "    .colab-df-container {\n",
              "      display:flex;\n",
              "      flex-wrap:wrap;\n",
              "      gap: 12px;\n",
              "    }\n",
              "\n",
              "    .colab-df-convert {\n",
              "      background-color: #E8F0FE;\n",
              "      border: none;\n",
              "      border-radius: 50%;\n",
              "      cursor: pointer;\n",
              "      display: none;\n",
              "      fill: #1967D2;\n",
              "      height: 32px;\n",
              "      padding: 0 0 0 0;\n",
              "      width: 32px;\n",
              "    }\n",
              "\n",
              "    .colab-df-convert:hover {\n",
              "      background-color: #E2EBFA;\n",
              "      box-shadow: 0px 1px 2px rgba(60, 64, 67, 0.3), 0px 1px 3px 1px rgba(60, 64, 67, 0.15);\n",
              "      fill: #174EA6;\n",
              "    }\n",
              "\n",
              "    [theme=dark] .colab-df-convert {\n",
              "      background-color: #3B4455;\n",
              "      fill: #D2E3FC;\n",
              "    }\n",
              "\n",
              "    [theme=dark] .colab-df-convert:hover {\n",
              "      background-color: #434B5C;\n",
              "      box-shadow: 0px 1px 3px 1px rgba(0, 0, 0, 0.15);\n",
              "      filter: drop-shadow(0px 1px 2px rgba(0, 0, 0, 0.3));\n",
              "      fill: #FFFFFF;\n",
              "    }\n",
              "  </style>\n",
              "\n",
              "      <script>\n",
              "        const buttonEl =\n",
              "          document.querySelector('#df-b02dc41a-ef00-4e13-969e-32482837d027 button.colab-df-convert');\n",
              "        buttonEl.style.display =\n",
              "          google.colab.kernel.accessAllowed ? 'block' : 'none';\n",
              "\n",
              "        async function convertToInteractive(key) {\n",
              "          const element = document.querySelector('#df-b02dc41a-ef00-4e13-969e-32482837d027');\n",
              "          const dataTable =\n",
              "            await google.colab.kernel.invokeFunction('convertToInteractive',\n",
              "                                                     [key], {});\n",
              "          if (!dataTable) return;\n",
              "\n",
              "          const docLinkHtml = 'Like what you see? Visit the ' +\n",
              "            '<a target=\"_blank\" href=https://colab.research.google.com/notebooks/data_table.ipynb>data table notebook</a>'\n",
              "            + ' to learn more about interactive tables.';\n",
              "          element.innerHTML = '';\n",
              "          dataTable['output_type'] = 'display_data';\n",
              "          await google.colab.output.renderOutput(dataTable, element);\n",
              "          const docLink = document.createElement('div');\n",
              "          docLink.innerHTML = docLinkHtml;\n",
              "          element.appendChild(docLink);\n",
              "        }\n",
              "      </script>\n",
              "    </div>\n",
              "  </div>\n",
              "  "
            ],
            "text/plain": [
              "            Date Source    Site ID  ...       COUNTY  SITE_LATITUDE SITE_LONGITUDE\n",
              "0     01/01/2021    AQS  320030024  ...        Clark      36.815897    -114.050347\n",
              "1     01/02/2021    AQS  320030024  ...        Clark      36.815897    -114.050347\n",
              "2     01/03/2021    AQS  320030024  ...        Clark      36.815897    -114.050347\n",
              "3     01/04/2021    AQS  320030024  ...        Clark      36.815897    -114.050347\n",
              "4     01/05/2021    AQS  320030024  ...        Clark      36.815897    -114.050347\n",
              "...          ...    ...        ...  ...          ...            ...            ...\n",
              "7364  06/03/2021    AQS  325100020  ...  Carson City      39.144700    -119.766100\n",
              "7365  06/09/2021    AQS  325100020  ...  Carson City      39.144700    -119.766100\n",
              "7366  06/15/2021    AQS  325100020  ...  Carson City      39.144700    -119.766100\n",
              "7367  06/21/2021    AQS  325100020  ...  Carson City      39.144700    -119.766100\n",
              "7368  06/27/2021    AQS  325100020  ...  Carson City      39.144700    -119.766100\n",
              "\n",
              "[7369 rows x 20 columns]"
            ]
          },
          "metadata": {},
          "execution_count": 6
        }
      ],
      "source": [
        "#Reading one of the data files\n",
        "pd.read_csv('/data/2.5_2021.csv')"
      ]
    },
    {
      "cell_type": "code",
      "execution_count": 7,
      "metadata": {
        "id": "uE6xjsF3JJKB"
      },
      "outputs": [],
      "source": [
        "#Compiling all related data in one dataframe\n",
        "add = []\n",
        "leng = 0\n",
        "for item in os.listdir('/data'):\n",
        "  if '.csv' in item:\n",
        "    temp = pd.read_csv('/data/' + item)\n",
        "    add.append(temp)\n",
        "    leng += len(pd.read_csv('/data/' + item))\n",
        "\n",
        "compiled = pd.concat(add)"
      ]
    },
    {
      "cell_type": "code",
      "execution_count": 8,
      "metadata": {
        "colab": {
          "base_uri": "https://localhost:8080/",
          "height": 1000
        },
        "id": "YjuebLyPQ3U2",
        "outputId": "4918d5c2-d14b-4991-b6c4-6b985d14032c"
      },
      "outputs": [
        {
          "output_type": "execute_result",
          "data": {
            "text/html": [
              "\n",
              "  <div id=\"df-bc173cb9-8474-4114-a670-72378032c01d\">\n",
              "    <div class=\"colab-df-container\">\n",
              "      <div>\n",
              "<style scoped>\n",
              "    .dataframe tbody tr th:only-of-type {\n",
              "        vertical-align: middle;\n",
              "    }\n",
              "\n",
              "    .dataframe tbody tr th {\n",
              "        vertical-align: top;\n",
              "    }\n",
              "\n",
              "    .dataframe thead th {\n",
              "        text-align: right;\n",
              "    }\n",
              "</style>\n",
              "<table border=\"1\" class=\"dataframe\">\n",
              "  <thead>\n",
              "    <tr style=\"text-align: right;\">\n",
              "      <th></th>\n",
              "      <th>Date</th>\n",
              "      <th>Source</th>\n",
              "      <th>Site ID</th>\n",
              "      <th>POC</th>\n",
              "      <th>Daily Mean PM2.5 Concentration</th>\n",
              "      <th>UNITS</th>\n",
              "      <th>DAILY_AQI_VALUE</th>\n",
              "      <th>Site Name</th>\n",
              "      <th>DAILY_OBS_COUNT</th>\n",
              "      <th>PERCENT_COMPLETE</th>\n",
              "      <th>AQS_PARAMETER_CODE</th>\n",
              "      <th>AQS_PARAMETER_DESC</th>\n",
              "      <th>CBSA_CODE</th>\n",
              "      <th>CBSA_NAME</th>\n",
              "      <th>STATE_CODE</th>\n",
              "      <th>STATE</th>\n",
              "      <th>COUNTY_CODE</th>\n",
              "      <th>COUNTY</th>\n",
              "      <th>SITE_LATITUDE</th>\n",
              "      <th>SITE_LONGITUDE</th>\n",
              "    </tr>\n",
              "  </thead>\n",
              "  <tbody>\n",
              "    <tr>\n",
              "      <th>0</th>\n",
              "      <td>01/01/2021</td>\n",
              "      <td>AQS</td>\n",
              "      <td>320030024</td>\n",
              "      <td>3</td>\n",
              "      <td>3.0</td>\n",
              "      <td>ug/m3 LC</td>\n",
              "      <td>13</td>\n",
              "      <td>NaN</td>\n",
              "      <td>1</td>\n",
              "      <td>100.0</td>\n",
              "      <td>88101</td>\n",
              "      <td>PM2.5 - Local Conditions</td>\n",
              "      <td>29820.0</td>\n",
              "      <td>Las Vegas-Henderson-Paradise, NV</td>\n",
              "      <td>32</td>\n",
              "      <td>Nevada</td>\n",
              "      <td>3</td>\n",
              "      <td>Clark</td>\n",
              "      <td>36.815897</td>\n",
              "      <td>-114.050347</td>\n",
              "    </tr>\n",
              "    <tr>\n",
              "      <th>1</th>\n",
              "      <td>01/02/2021</td>\n",
              "      <td>AQS</td>\n",
              "      <td>320030024</td>\n",
              "      <td>3</td>\n",
              "      <td>5.3</td>\n",
              "      <td>ug/m3 LC</td>\n",
              "      <td>22</td>\n",
              "      <td>NaN</td>\n",
              "      <td>1</td>\n",
              "      <td>100.0</td>\n",
              "      <td>88101</td>\n",
              "      <td>PM2.5 - Local Conditions</td>\n",
              "      <td>29820.0</td>\n",
              "      <td>Las Vegas-Henderson-Paradise, NV</td>\n",
              "      <td>32</td>\n",
              "      <td>Nevada</td>\n",
              "      <td>3</td>\n",
              "      <td>Clark</td>\n",
              "      <td>36.815897</td>\n",
              "      <td>-114.050347</td>\n",
              "    </tr>\n",
              "    <tr>\n",
              "      <th>2</th>\n",
              "      <td>01/03/2021</td>\n",
              "      <td>AQS</td>\n",
              "      <td>320030024</td>\n",
              "      <td>3</td>\n",
              "      <td>4.1</td>\n",
              "      <td>ug/m3 LC</td>\n",
              "      <td>17</td>\n",
              "      <td>NaN</td>\n",
              "      <td>1</td>\n",
              "      <td>100.0</td>\n",
              "      <td>88101</td>\n",
              "      <td>PM2.5 - Local Conditions</td>\n",
              "      <td>29820.0</td>\n",
              "      <td>Las Vegas-Henderson-Paradise, NV</td>\n",
              "      <td>32</td>\n",
              "      <td>Nevada</td>\n",
              "      <td>3</td>\n",
              "      <td>Clark</td>\n",
              "      <td>36.815897</td>\n",
              "      <td>-114.050347</td>\n",
              "    </tr>\n",
              "    <tr>\n",
              "      <th>3</th>\n",
              "      <td>01/04/2021</td>\n",
              "      <td>AQS</td>\n",
              "      <td>320030024</td>\n",
              "      <td>3</td>\n",
              "      <td>4.5</td>\n",
              "      <td>ug/m3 LC</td>\n",
              "      <td>19</td>\n",
              "      <td>NaN</td>\n",
              "      <td>1</td>\n",
              "      <td>100.0</td>\n",
              "      <td>88101</td>\n",
              "      <td>PM2.5 - Local Conditions</td>\n",
              "      <td>29820.0</td>\n",
              "      <td>Las Vegas-Henderson-Paradise, NV</td>\n",
              "      <td>32</td>\n",
              "      <td>Nevada</td>\n",
              "      <td>3</td>\n",
              "      <td>Clark</td>\n",
              "      <td>36.815897</td>\n",
              "      <td>-114.050347</td>\n",
              "    </tr>\n",
              "    <tr>\n",
              "      <th>4</th>\n",
              "      <td>01/05/2021</td>\n",
              "      <td>AQS</td>\n",
              "      <td>320030024</td>\n",
              "      <td>3</td>\n",
              "      <td>3.8</td>\n",
              "      <td>ug/m3 LC</td>\n",
              "      <td>16</td>\n",
              "      <td>NaN</td>\n",
              "      <td>1</td>\n",
              "      <td>100.0</td>\n",
              "      <td>88101</td>\n",
              "      <td>PM2.5 - Local Conditions</td>\n",
              "      <td>29820.0</td>\n",
              "      <td>Las Vegas-Henderson-Paradise, NV</td>\n",
              "      <td>32</td>\n",
              "      <td>Nevada</td>\n",
              "      <td>3</td>\n",
              "      <td>Clark</td>\n",
              "      <td>36.815897</td>\n",
              "      <td>-114.050347</td>\n",
              "    </tr>\n",
              "    <tr>\n",
              "      <th>...</th>\n",
              "      <td>...</td>\n",
              "      <td>...</td>\n",
              "      <td>...</td>\n",
              "      <td>...</td>\n",
              "      <td>...</td>\n",
              "      <td>...</td>\n",
              "      <td>...</td>\n",
              "      <td>...</td>\n",
              "      <td>...</td>\n",
              "      <td>...</td>\n",
              "      <td>...</td>\n",
              "      <td>...</td>\n",
              "      <td>...</td>\n",
              "      <td>...</td>\n",
              "      <td>...</td>\n",
              "      <td>...</td>\n",
              "      <td>...</td>\n",
              "      <td>...</td>\n",
              "      <td>...</td>\n",
              "      <td>...</td>\n",
              "    </tr>\n",
              "    <tr>\n",
              "      <th>1134</th>\n",
              "      <td>12/15/1999</td>\n",
              "      <td>AQS</td>\n",
              "      <td>320330101</td>\n",
              "      <td>1</td>\n",
              "      <td>1.8</td>\n",
              "      <td>ug/m3 LC</td>\n",
              "      <td>8</td>\n",
              "      <td>Great Basin NP - Maintenance Yard</td>\n",
              "      <td>1</td>\n",
              "      <td>100.0</td>\n",
              "      <td>88502</td>\n",
              "      <td>Acceptable PM2.5 AQI &amp; Speciation Mass</td>\n",
              "      <td>NaN</td>\n",
              "      <td>NaN</td>\n",
              "      <td>32</td>\n",
              "      <td>Nevada</td>\n",
              "      <td>33</td>\n",
              "      <td>White Pine</td>\n",
              "      <td>39.005120</td>\n",
              "      <td>-114.215930</td>\n",
              "    </tr>\n",
              "    <tr>\n",
              "      <th>1135</th>\n",
              "      <td>12/18/1999</td>\n",
              "      <td>AQS</td>\n",
              "      <td>320330101</td>\n",
              "      <td>1</td>\n",
              "      <td>1.7</td>\n",
              "      <td>ug/m3 LC</td>\n",
              "      <td>7</td>\n",
              "      <td>Great Basin NP - Maintenance Yard</td>\n",
              "      <td>1</td>\n",
              "      <td>100.0</td>\n",
              "      <td>88502</td>\n",
              "      <td>Acceptable PM2.5 AQI &amp; Speciation Mass</td>\n",
              "      <td>NaN</td>\n",
              "      <td>NaN</td>\n",
              "      <td>32</td>\n",
              "      <td>Nevada</td>\n",
              "      <td>33</td>\n",
              "      <td>White Pine</td>\n",
              "      <td>39.005120</td>\n",
              "      <td>-114.215930</td>\n",
              "    </tr>\n",
              "    <tr>\n",
              "      <th>1136</th>\n",
              "      <td>12/22/1999</td>\n",
              "      <td>AQS</td>\n",
              "      <td>320330101</td>\n",
              "      <td>1</td>\n",
              "      <td>1.7</td>\n",
              "      <td>ug/m3 LC</td>\n",
              "      <td>7</td>\n",
              "      <td>Great Basin NP - Maintenance Yard</td>\n",
              "      <td>1</td>\n",
              "      <td>100.0</td>\n",
              "      <td>88502</td>\n",
              "      <td>Acceptable PM2.5 AQI &amp; Speciation Mass</td>\n",
              "      <td>NaN</td>\n",
              "      <td>NaN</td>\n",
              "      <td>32</td>\n",
              "      <td>Nevada</td>\n",
              "      <td>33</td>\n",
              "      <td>White Pine</td>\n",
              "      <td>39.005120</td>\n",
              "      <td>-114.215930</td>\n",
              "    </tr>\n",
              "    <tr>\n",
              "      <th>1137</th>\n",
              "      <td>12/25/1999</td>\n",
              "      <td>AQS</td>\n",
              "      <td>320330101</td>\n",
              "      <td>1</td>\n",
              "      <td>1.0</td>\n",
              "      <td>ug/m3 LC</td>\n",
              "      <td>4</td>\n",
              "      <td>Great Basin NP - Maintenance Yard</td>\n",
              "      <td>1</td>\n",
              "      <td>100.0</td>\n",
              "      <td>88502</td>\n",
              "      <td>Acceptable PM2.5 AQI &amp; Speciation Mass</td>\n",
              "      <td>NaN</td>\n",
              "      <td>NaN</td>\n",
              "      <td>32</td>\n",
              "      <td>Nevada</td>\n",
              "      <td>33</td>\n",
              "      <td>White Pine</td>\n",
              "      <td>39.005120</td>\n",
              "      <td>-114.215930</td>\n",
              "    </tr>\n",
              "    <tr>\n",
              "      <th>1138</th>\n",
              "      <td>12/29/1999</td>\n",
              "      <td>AQS</td>\n",
              "      <td>320330101</td>\n",
              "      <td>1</td>\n",
              "      <td>1.0</td>\n",
              "      <td>ug/m3 LC</td>\n",
              "      <td>4</td>\n",
              "      <td>Great Basin NP - Maintenance Yard</td>\n",
              "      <td>1</td>\n",
              "      <td>100.0</td>\n",
              "      <td>88502</td>\n",
              "      <td>Acceptable PM2.5 AQI &amp; Speciation Mass</td>\n",
              "      <td>NaN</td>\n",
              "      <td>NaN</td>\n",
              "      <td>32</td>\n",
              "      <td>Nevada</td>\n",
              "      <td>33</td>\n",
              "      <td>White Pine</td>\n",
              "      <td>39.005120</td>\n",
              "      <td>-114.215930</td>\n",
              "    </tr>\n",
              "  </tbody>\n",
              "</table>\n",
              "<p>86217 rows × 20 columns</p>\n",
              "</div>\n",
              "      <button class=\"colab-df-convert\" onclick=\"convertToInteractive('df-bc173cb9-8474-4114-a670-72378032c01d')\"\n",
              "              title=\"Convert this dataframe to an interactive table.\"\n",
              "              style=\"display:none;\">\n",
              "        \n",
              "  <svg xmlns=\"http://www.w3.org/2000/svg\" height=\"24px\"viewBox=\"0 0 24 24\"\n",
              "       width=\"24px\">\n",
              "    <path d=\"M0 0h24v24H0V0z\" fill=\"none\"/>\n",
              "    <path d=\"M18.56 5.44l.94 2.06.94-2.06 2.06-.94-2.06-.94-.94-2.06-.94 2.06-2.06.94zm-11 1L8.5 8.5l.94-2.06 2.06-.94-2.06-.94L8.5 2.5l-.94 2.06-2.06.94zm10 10l.94 2.06.94-2.06 2.06-.94-2.06-.94-.94-2.06-.94 2.06-2.06.94z\"/><path d=\"M17.41 7.96l-1.37-1.37c-.4-.4-.92-.59-1.43-.59-.52 0-1.04.2-1.43.59L10.3 9.45l-7.72 7.72c-.78.78-.78 2.05 0 2.83L4 21.41c.39.39.9.59 1.41.59.51 0 1.02-.2 1.41-.59l7.78-7.78 2.81-2.81c.8-.78.8-2.07 0-2.86zM5.41 20L4 18.59l7.72-7.72 1.47 1.35L5.41 20z\"/>\n",
              "  </svg>\n",
              "      </button>\n",
              "      \n",
              "  <style>\n",
              "    .colab-df-container {\n",
              "      display:flex;\n",
              "      flex-wrap:wrap;\n",
              "      gap: 12px;\n",
              "    }\n",
              "\n",
              "    .colab-df-convert {\n",
              "      background-color: #E8F0FE;\n",
              "      border: none;\n",
              "      border-radius: 50%;\n",
              "      cursor: pointer;\n",
              "      display: none;\n",
              "      fill: #1967D2;\n",
              "      height: 32px;\n",
              "      padding: 0 0 0 0;\n",
              "      width: 32px;\n",
              "    }\n",
              "\n",
              "    .colab-df-convert:hover {\n",
              "      background-color: #E2EBFA;\n",
              "      box-shadow: 0px 1px 2px rgba(60, 64, 67, 0.3), 0px 1px 3px 1px rgba(60, 64, 67, 0.15);\n",
              "      fill: #174EA6;\n",
              "    }\n",
              "\n",
              "    [theme=dark] .colab-df-convert {\n",
              "      background-color: #3B4455;\n",
              "      fill: #D2E3FC;\n",
              "    }\n",
              "\n",
              "    [theme=dark] .colab-df-convert:hover {\n",
              "      background-color: #434B5C;\n",
              "      box-shadow: 0px 1px 3px 1px rgba(0, 0, 0, 0.15);\n",
              "      filter: drop-shadow(0px 1px 2px rgba(0, 0, 0, 0.3));\n",
              "      fill: #FFFFFF;\n",
              "    }\n",
              "  </style>\n",
              "\n",
              "      <script>\n",
              "        const buttonEl =\n",
              "          document.querySelector('#df-bc173cb9-8474-4114-a670-72378032c01d button.colab-df-convert');\n",
              "        buttonEl.style.display =\n",
              "          google.colab.kernel.accessAllowed ? 'block' : 'none';\n",
              "\n",
              "        async function convertToInteractive(key) {\n",
              "          const element = document.querySelector('#df-bc173cb9-8474-4114-a670-72378032c01d');\n",
              "          const dataTable =\n",
              "            await google.colab.kernel.invokeFunction('convertToInteractive',\n",
              "                                                     [key], {});\n",
              "          if (!dataTable) return;\n",
              "\n",
              "          const docLinkHtml = 'Like what you see? Visit the ' +\n",
              "            '<a target=\"_blank\" href=https://colab.research.google.com/notebooks/data_table.ipynb>data table notebook</a>'\n",
              "            + ' to learn more about interactive tables.';\n",
              "          element.innerHTML = '';\n",
              "          dataTable['output_type'] = 'display_data';\n",
              "          await google.colab.output.renderOutput(dataTable, element);\n",
              "          const docLink = document.createElement('div');\n",
              "          docLink.innerHTML = docLinkHtml;\n",
              "          element.appendChild(docLink);\n",
              "        }\n",
              "      </script>\n",
              "    </div>\n",
              "  </div>\n",
              "  "
            ],
            "text/plain": [
              "            Date Source    Site ID  ...      COUNTY  SITE_LATITUDE SITE_LONGITUDE\n",
              "0     01/01/2021    AQS  320030024  ...       Clark      36.815897    -114.050347\n",
              "1     01/02/2021    AQS  320030024  ...       Clark      36.815897    -114.050347\n",
              "2     01/03/2021    AQS  320030024  ...       Clark      36.815897    -114.050347\n",
              "3     01/04/2021    AQS  320030024  ...       Clark      36.815897    -114.050347\n",
              "4     01/05/2021    AQS  320030024  ...       Clark      36.815897    -114.050347\n",
              "...          ...    ...        ...  ...         ...            ...            ...\n",
              "1134  12/15/1999    AQS  320330101  ...  White Pine      39.005120    -114.215930\n",
              "1135  12/18/1999    AQS  320330101  ...  White Pine      39.005120    -114.215930\n",
              "1136  12/22/1999    AQS  320330101  ...  White Pine      39.005120    -114.215930\n",
              "1137  12/25/1999    AQS  320330101  ...  White Pine      39.005120    -114.215930\n",
              "1138  12/29/1999    AQS  320330101  ...  White Pine      39.005120    -114.215930\n",
              "\n",
              "[86217 rows x 20 columns]"
            ]
          },
          "metadata": {},
          "execution_count": 8
        }
      ],
      "source": [
        "compiled"
      ]
    },
    {
      "cell_type": "code",
      "execution_count": 9,
      "metadata": {
        "colab": {
          "base_uri": "https://localhost:8080/"
        },
        "id": "YIIMViaKQ33r",
        "outputId": "37d7413b-f7b9-4746-b6f1-5ebc929bdeb1"
      },
      "outputs": [
        {
          "output_type": "execute_result",
          "data": {
            "text/plain": [
              "True"
            ]
          },
          "metadata": {},
          "execution_count": 9
        }
      ],
      "source": [
        "#Checking if compilation was successful\n",
        "len(compiled) == leng"
      ]
    },
    {
      "cell_type": "markdown",
      "source": [
        "# Visualizing Data"
      ],
      "metadata": {
        "id": "bM_gUC2Ln8IZ"
      }
    },
    {
      "cell_type": "code",
      "execution_count": 10,
      "metadata": {
        "id": "MqQaIVlhUqfM"
      },
      "outputs": [],
      "source": [
        "#Tranforming date column to correct format\n",
        "compiled[\"Date\"] = pd.to_datetime(compiled[\"Date\"])"
      ]
    },
    {
      "cell_type": "code",
      "execution_count": 11,
      "metadata": {
        "colab": {
          "base_uri": "https://localhost:8080/"
        },
        "id": "FhbzdpyM18Cd",
        "outputId": "d91e0bc9-58a8-49f8-acbd-cbc16b809f5a"
      },
      "outputs": [
        {
          "output_type": "execute_result",
          "data": {
            "text/plain": [
              "0      2021-01-01\n",
              "1      2021-01-02\n",
              "2      2021-01-03\n",
              "3      2021-01-04\n",
              "4      2021-01-05\n",
              "          ...    \n",
              "1134   1999-12-15\n",
              "1135   1999-12-18\n",
              "1136   1999-12-22\n",
              "1137   1999-12-25\n",
              "1138   1999-12-29\n",
              "Name: Date, Length: 86217, dtype: datetime64[ns]"
            ]
          },
          "metadata": {},
          "execution_count": 11
        }
      ],
      "source": [
        "compiled['Date']"
      ]
    },
    {
      "cell_type": "code",
      "execution_count": 12,
      "metadata": {
        "id": "bLv_Ll2KRMWD"
      },
      "outputs": [],
      "source": [
        "#If multiple readings on same date, taking average of the values\n",
        "compiled = compiled[['Date', 'Daily Mean PM2.5 Concentration']].groupby(by = ['Date']).mean()"
      ]
    },
    {
      "cell_type": "code",
      "execution_count": 13,
      "metadata": {
        "colab": {
          "base_uri": "https://localhost:8080/",
          "height": 455
        },
        "id": "CLs3L4_lSaIv",
        "outputId": "00c8ecb4-f82e-444a-9a21-3568e72020c8"
      },
      "outputs": [
        {
          "output_type": "execute_result",
          "data": {
            "text/html": [
              "\n",
              "  <div id=\"df-2072111d-2c6f-4961-9e8b-2a4777357754\">\n",
              "    <div class=\"colab-df-container\">\n",
              "      <div>\n",
              "<style scoped>\n",
              "    .dataframe tbody tr th:only-of-type {\n",
              "        vertical-align: middle;\n",
              "    }\n",
              "\n",
              "    .dataframe tbody tr th {\n",
              "        vertical-align: top;\n",
              "    }\n",
              "\n",
              "    .dataframe thead th {\n",
              "        text-align: right;\n",
              "    }\n",
              "</style>\n",
              "<table border=\"1\" class=\"dataframe\">\n",
              "  <thead>\n",
              "    <tr style=\"text-align: right;\">\n",
              "      <th></th>\n",
              "      <th>Daily Mean PM2.5 Concentration</th>\n",
              "    </tr>\n",
              "    <tr>\n",
              "      <th>Date</th>\n",
              "      <th></th>\n",
              "    </tr>\n",
              "  </thead>\n",
              "  <tbody>\n",
              "    <tr>\n",
              "      <th>1999-01-02</th>\n",
              "      <td>1.250000</td>\n",
              "    </tr>\n",
              "    <tr>\n",
              "      <th>1999-01-03</th>\n",
              "      <td>9.375000</td>\n",
              "    </tr>\n",
              "    <tr>\n",
              "      <th>1999-01-06</th>\n",
              "      <td>22.842857</td>\n",
              "    </tr>\n",
              "    <tr>\n",
              "      <th>1999-01-09</th>\n",
              "      <td>7.850000</td>\n",
              "    </tr>\n",
              "    <tr>\n",
              "      <th>1999-01-12</th>\n",
              "      <td>7.860000</td>\n",
              "    </tr>\n",
              "    <tr>\n",
              "      <th>...</th>\n",
              "      <td>...</td>\n",
              "    </tr>\n",
              "    <tr>\n",
              "      <th>2021-12-24</th>\n",
              "      <td>1.623810</td>\n",
              "    </tr>\n",
              "    <tr>\n",
              "      <th>2021-12-25</th>\n",
              "      <td>3.009524</td>\n",
              "    </tr>\n",
              "    <tr>\n",
              "      <th>2021-12-26</th>\n",
              "      <td>1.738095</td>\n",
              "    </tr>\n",
              "    <tr>\n",
              "      <th>2021-12-27</th>\n",
              "      <td>2.447619</td>\n",
              "    </tr>\n",
              "    <tr>\n",
              "      <th>2021-12-28</th>\n",
              "      <td>3.023810</td>\n",
              "    </tr>\n",
              "  </tbody>\n",
              "</table>\n",
              "<p>8336 rows × 1 columns</p>\n",
              "</div>\n",
              "      <button class=\"colab-df-convert\" onclick=\"convertToInteractive('df-2072111d-2c6f-4961-9e8b-2a4777357754')\"\n",
              "              title=\"Convert this dataframe to an interactive table.\"\n",
              "              style=\"display:none;\">\n",
              "        \n",
              "  <svg xmlns=\"http://www.w3.org/2000/svg\" height=\"24px\"viewBox=\"0 0 24 24\"\n",
              "       width=\"24px\">\n",
              "    <path d=\"M0 0h24v24H0V0z\" fill=\"none\"/>\n",
              "    <path d=\"M18.56 5.44l.94 2.06.94-2.06 2.06-.94-2.06-.94-.94-2.06-.94 2.06-2.06.94zm-11 1L8.5 8.5l.94-2.06 2.06-.94-2.06-.94L8.5 2.5l-.94 2.06-2.06.94zm10 10l.94 2.06.94-2.06 2.06-.94-2.06-.94-.94-2.06-.94 2.06-2.06.94z\"/><path d=\"M17.41 7.96l-1.37-1.37c-.4-.4-.92-.59-1.43-.59-.52 0-1.04.2-1.43.59L10.3 9.45l-7.72 7.72c-.78.78-.78 2.05 0 2.83L4 21.41c.39.39.9.59 1.41.59.51 0 1.02-.2 1.41-.59l7.78-7.78 2.81-2.81c.8-.78.8-2.07 0-2.86zM5.41 20L4 18.59l7.72-7.72 1.47 1.35L5.41 20z\"/>\n",
              "  </svg>\n",
              "      </button>\n",
              "      \n",
              "  <style>\n",
              "    .colab-df-container {\n",
              "      display:flex;\n",
              "      flex-wrap:wrap;\n",
              "      gap: 12px;\n",
              "    }\n",
              "\n",
              "    .colab-df-convert {\n",
              "      background-color: #E8F0FE;\n",
              "      border: none;\n",
              "      border-radius: 50%;\n",
              "      cursor: pointer;\n",
              "      display: none;\n",
              "      fill: #1967D2;\n",
              "      height: 32px;\n",
              "      padding: 0 0 0 0;\n",
              "      width: 32px;\n",
              "    }\n",
              "\n",
              "    .colab-df-convert:hover {\n",
              "      background-color: #E2EBFA;\n",
              "      box-shadow: 0px 1px 2px rgba(60, 64, 67, 0.3), 0px 1px 3px 1px rgba(60, 64, 67, 0.15);\n",
              "      fill: #174EA6;\n",
              "    }\n",
              "\n",
              "    [theme=dark] .colab-df-convert {\n",
              "      background-color: #3B4455;\n",
              "      fill: #D2E3FC;\n",
              "    }\n",
              "\n",
              "    [theme=dark] .colab-df-convert:hover {\n",
              "      background-color: #434B5C;\n",
              "      box-shadow: 0px 1px 3px 1px rgba(0, 0, 0, 0.15);\n",
              "      filter: drop-shadow(0px 1px 2px rgba(0, 0, 0, 0.3));\n",
              "      fill: #FFFFFF;\n",
              "    }\n",
              "  </style>\n",
              "\n",
              "      <script>\n",
              "        const buttonEl =\n",
              "          document.querySelector('#df-2072111d-2c6f-4961-9e8b-2a4777357754 button.colab-df-convert');\n",
              "        buttonEl.style.display =\n",
              "          google.colab.kernel.accessAllowed ? 'block' : 'none';\n",
              "\n",
              "        async function convertToInteractive(key) {\n",
              "          const element = document.querySelector('#df-2072111d-2c6f-4961-9e8b-2a4777357754');\n",
              "          const dataTable =\n",
              "            await google.colab.kernel.invokeFunction('convertToInteractive',\n",
              "                                                     [key], {});\n",
              "          if (!dataTable) return;\n",
              "\n",
              "          const docLinkHtml = 'Like what you see? Visit the ' +\n",
              "            '<a target=\"_blank\" href=https://colab.research.google.com/notebooks/data_table.ipynb>data table notebook</a>'\n",
              "            + ' to learn more about interactive tables.';\n",
              "          element.innerHTML = '';\n",
              "          dataTable['output_type'] = 'display_data';\n",
              "          await google.colab.output.renderOutput(dataTable, element);\n",
              "          const docLink = document.createElement('div');\n",
              "          docLink.innerHTML = docLinkHtml;\n",
              "          element.appendChild(docLink);\n",
              "        }\n",
              "      </script>\n",
              "    </div>\n",
              "  </div>\n",
              "  "
            ],
            "text/plain": [
              "            Daily Mean PM2.5 Concentration\n",
              "Date                                      \n",
              "1999-01-02                        1.250000\n",
              "1999-01-03                        9.375000\n",
              "1999-01-06                       22.842857\n",
              "1999-01-09                        7.850000\n",
              "1999-01-12                        7.860000\n",
              "...                                    ...\n",
              "2021-12-24                        1.623810\n",
              "2021-12-25                        3.009524\n",
              "2021-12-26                        1.738095\n",
              "2021-12-27                        2.447619\n",
              "2021-12-28                        3.023810\n",
              "\n",
              "[8336 rows x 1 columns]"
            ]
          },
          "metadata": {},
          "execution_count": 13
        }
      ],
      "source": [
        "compiled"
      ]
    },
    {
      "cell_type": "code",
      "execution_count": 14,
      "metadata": {
        "colab": {
          "base_uri": "https://localhost:8080/",
          "height": 308
        },
        "id": "lsTvwZZzUse8",
        "outputId": "6e431d95-6c69-43a5-bdc6-253546c4eab6"
      },
      "outputs": [
        {
          "output_type": "execute_result",
          "data": {
            "text/plain": [
              "<matplotlib.axes._subplots.AxesSubplot at 0x7f31f0528490>"
            ]
          },
          "metadata": {},
          "execution_count": 14
        },
        {
          "output_type": "display_data",
          "data": {
            "image/png": "[encoded data removed]",
            "text/plain": [
              "<Figure size 432x288 with 1 Axes>"
            ]
          },
          "metadata": {
            "needs_background": "light"
          }
        }
      ],
      "source": [
        "#Plotting data for year 2021\n",
        "compiled[compiled.index.year == 2021].plot()"
      ]
    },
    {
      "cell_type": "code",
      "execution_count": 15,
      "metadata": {
        "colab": {
          "base_uri": "https://localhost:8080/",
          "height": 308
        },
        "id": "aaH9nDFjWo6m",
        "outputId": "9320c0a3-107d-4001-bb3d-e8f82e14fbfd"
      },
      "outputs": [
        {
          "output_type": "execute_result",
          "data": {
            "text/plain": [
              "<matplotlib.axes._subplots.AxesSubplot at 0x7f31f0359050>"
            ]
          },
          "metadata": {},
          "execution_count": 15
        },
        {
          "output_type": "display_data",
          "data": {
            "image/png": "[encoded data removed]",
            "text/plain": [
              "<Figure size 432x288 with 1 Axes>"
            ]
          },
          "metadata": {
            "needs_background": "light"
          }
        }
      ],
      "source": [
        "#Plotting data for year 2020\n",
        "compiled[compiled.index.year == 2020].plot()"
      ]
    },
    {
      "cell_type": "code",
      "execution_count": 16,
      "metadata": {
        "colab": {
          "base_uri": "https://localhost:8080/",
          "height": 311
        },
        "id": "sB9BDgNMW8JZ",
        "outputId": "165c81ba-25d0-4477-dea3-2198aeb82cc8"
      },
      "outputs": [
        {
          "output_type": "execute_result",
          "data": {
            "text/plain": [
              "<matplotlib.axes._subplots.AxesSubplot at 0x7f31f0359e90>"
            ]
          },
          "metadata": {},
          "execution_count": 16
        },
        {
          "output_type": "display_data",
          "data": {
            "image/png": "[encoded data removed]",
            "text/plain": [
              "<Figure size 432x288 with 1 Axes>"
            ]
          },
          "metadata": {
            "needs_background": "light"
          }
        }
      ],
      "source": [
        "#Plotting data for year 2011\n",
        "compiled[compiled.index.year == 2011].plot()"
      ]
    },
    {
      "cell_type": "code",
      "execution_count": 17,
      "metadata": {
        "colab": {
          "base_uri": "https://localhost:8080/",
          "height": 308
        },
        "id": "zjRJektcW_qy",
        "outputId": "7e23969f-8d03-4243-c6a7-daf3e86953bd"
      },
      "outputs": [
        {
          "output_type": "execute_result",
          "data": {
            "text/plain": [
              "<matplotlib.axes._subplots.AxesSubplot at 0x7f31efdf1bd0>"
            ]
          },
          "metadata": {},
          "execution_count": 17
        },
        {
          "output_type": "display_data",
          "data": {
            "image/png": "[encoded data removed]",
            "text/plain": [
              "<Figure size 432x288 with 1 Axes>"
            ]
          },
          "metadata": {
            "needs_background": "light"
          }
        }
      ],
      "source": [
        "#Plotting data for year 2015\n",
        "compiled[compiled.index.year == 2015].plot()"
      ]
    },
    {
      "cell_type": "markdown",
      "source": [
        "# Data Pre-Processing"
      ],
      "metadata": {
        "id": "B3uROTNIXrXG"
      }
    },
    {
      "cell_type": "code",
      "execution_count": 18,
      "metadata": {
        "id": "6fWe4ibqPG_y"
      },
      "outputs": [],
      "source": [
        "#normalizing the values for better predictions\n",
        "scaler = MinMaxScaler(feature_range=(0,1))\n",
        "\n",
        "# reshape the data before calling scaler.fit_transform because it works only on np arrays\n",
        "compiled = scaler.fit_transform(np.array(compiled).reshape(-1,1))"
      ]
    },
    {
      "cell_type": "code",
      "execution_count": 19,
      "metadata": {
        "colab": {
          "base_uri": "https://localhost:8080/"
        },
        "id": "lfFMNfL_PWV2",
        "outputId": "48553d1e-47e1-4644-baab-c317a4d010d9"
      },
      "outputs": [
        {
          "output_type": "execute_result",
          "data": {
            "text/plain": [
              "array([[0.00734312],\n",
              "       [0.11582109],\n",
              "       [0.29563227],\n",
              "       ...,\n",
              "       [0.01385975],\n",
              "       [0.0233327 ],\n",
              "       [0.03102549]])"
            ]
          },
          "metadata": {},
          "execution_count": 19
        }
      ],
      "source": [
        "compiled"
      ]
    },
    {
      "cell_type": "code",
      "execution_count": 20,
      "metadata": {
        "id": "JDuGPuLTPXhk"
      },
      "outputs": [],
      "source": [
        "training_size = int(0.7*compiled.shape[0])\n",
        "test_size = compiled.shape[0] - training_size\n",
        "train_data = compiled[:training_size, :]\n",
        "test_data = compiled[training_size:, :]"
      ]
    },
    {
      "cell_type": "code",
      "execution_count": 21,
      "metadata": {
        "colab": {
          "base_uri": "https://localhost:8080/"
        },
        "id": "b82zxM1GPgbt",
        "outputId": "bdf683c7-9fa6-424f-9c46-fbb816f4bece"
      },
      "outputs": [
        {
          "output_type": "execute_result",
          "data": {
            "text/plain": [
              "array([[0.00734312],\n",
              "       [0.11582109],\n",
              "       [0.29563227],\n",
              "       ...,\n",
              "       [0.09490432],\n",
              "       [0.06734906],\n",
              "       [0.04791574]])"
            ]
          },
          "metadata": {},
          "execution_count": 21
        }
      ],
      "source": [
        "train_data"
      ]
    },
    {
      "cell_type": "code",
      "execution_count": 22,
      "metadata": {
        "colab": {
          "base_uri": "https://localhost:8080/"
        },
        "id": "S6Vy83jnPmOp",
        "outputId": "b645c763-eaea-435f-cb56-fccd17d5a2e2"
      },
      "outputs": [
        {
          "output_type": "execute_result",
          "data": {
            "text/plain": [
              "(8336, 1)"
            ]
          },
          "metadata": {},
          "execution_count": 22
        }
      ],
      "source": [
        "compiled.shape"
      ]
    },
    {
      "cell_type": "code",
      "execution_count": 23,
      "metadata": {
        "colab": {
          "base_uri": "https://localhost:8080/"
        },
        "id": "_A8DjCrIPz8C",
        "outputId": "2367e821-b7d3-4f25-b44b-c7673eda2069"
      },
      "outputs": [
        {
          "output_type": "execute_result",
          "data": {
            "text/plain": [
              "(5835, 1)"
            ]
          },
          "metadata": {},
          "execution_count": 23
        }
      ],
      "source": [
        "train_data.shape"
      ]
    },
    {
      "cell_type": "code",
      "execution_count": 24,
      "metadata": {
        "id": "Adc2bR9mP1Da"
      },
      "outputs": [],
      "source": [
        "window_size = 200"
      ]
    },
    {
      "cell_type": "code",
      "execution_count": 25,
      "metadata": {
        "id": "smyjSW3jQQXI"
      },
      "outputs": [],
      "source": [
        "x_train, y_train = [], []\n",
        "for i in range(window_size, train_data.shape[0]):         # a single prediction on the basis of the last 200 days\n",
        "  x_train.append(train_data[i-window_size:i,0])\n",
        "  y_train.append(train_data[i,0])\n",
        "\n",
        "x_train, y_train = np.array(x_train), np.array(y_train)\n",
        "x_train = x_train.reshape((x_train.shape[0], x_train.shape[1], 1))      # to make the input size compatible with the LSTM input size"
      ]
    },
    {
      "cell_type": "code",
      "execution_count": 26,
      "metadata": {
        "colab": {
          "base_uri": "https://localhost:8080/"
        },
        "id": "-aRDClrIQcpv",
        "outputId": "5346ca38-f420-4ad0-b4f5-0020d829e295"
      },
      "outputs": [
        {
          "output_type": "execute_result",
          "data": {
            "text/plain": [
              "(5635, 200, 1)"
            ]
          },
          "metadata": {},
          "execution_count": 26
        }
      ],
      "source": [
        "x_train.shape"
      ]
    },
    {
      "cell_type": "code",
      "execution_count": 27,
      "metadata": {
        "id": "brw0NVS1QerG"
      },
      "outputs": [],
      "source": [
        "x_test, y_test = [], []\n",
        "for i in range(window_size, test_data.shape[0]):\n",
        "  x_test.append(test_data[i-window_size:i, :])\n",
        "  y_test.append(test_data[i,:])\n",
        "\n",
        "x_test, y_test = np.array(x_test), np.array(y_test)"
      ]
    },
    {
      "cell_type": "code",
      "execution_count": 28,
      "metadata": {
        "colab": {
          "base_uri": "https://localhost:8080/"
        },
        "id": "_Zt7vgk9QjkQ",
        "outputId": "cbb40227-9bb0-4973-eb00-387c6e7d80f3"
      },
      "outputs": [
        {
          "output_type": "execute_result",
          "data": {
            "text/plain": [
              "(2301, 200, 1)"
            ]
          },
          "metadata": {},
          "execution_count": 28
        }
      ],
      "source": [
        "x_test.shape"
      ]
    },
    {
      "cell_type": "code",
      "execution_count": 29,
      "metadata": {
        "colab": {
          "base_uri": "https://localhost:8080/"
        },
        "id": "LQqD8gswQrqC",
        "outputId": "4ac3d56f-5d89-4da0-b1fe-80cbbd14d0db"
      },
      "outputs": [
        {
          "output_type": "execute_result",
          "data": {
            "text/plain": [
              "(2301, 200, 1)"
            ]
          },
          "metadata": {},
          "execution_count": 29
        }
      ],
      "source": [
        "x_test.shape"
      ]
    },
    {
      "cell_type": "code",
      "source": [
        "y_test_original = scaler.inverse_transform(y_test)"
      ],
      "metadata": {
        "id": "kWYyVk1B3_bp"
      },
      "execution_count": 30,
      "outputs": []
    },
    {
      "cell_type": "markdown",
      "metadata": {
        "id": "RuYCBIC3OO1O"
      },
      "source": [
        "# Dense Neural Network"
      ]
    },
    {
      "cell_type": "code",
      "source": [
        "inp = Input(shape = (x_train.shape[1], x_train.shape[2]))\n",
        "\n",
        "x = Flatten()(inp)\n",
        "x = Dense(128, activation=\"relu\")(x)\n",
        "x = Dense(32, activation=\"relu\")(x)\n",
        "last = Dense(1, activation=\"linear\")(x)\n",
        "\n",
        "dnn_model = Model(inputs = inp, outputs = last)\n",
        "dnn_model.summary()\n",
        "\n",
        "dnn_model.compile(loss='mean_squared_error', optimizer='adam')\n",
        "dnn_model.fit(x_train, y_train, validation_data = (x_test, y_test) ,epochs= 100, batch_size= 64, verbose=1)"
      ],
      "metadata": {
        "colab": {
          "base_uri": "https://localhost:8080/"
        },
        "id": "Jf4fpX_FpIFf",
        "outputId": "e01cc8ec-87c6-415d-c533-d2f2060348ff"
      },
      "execution_count": null,
      "outputs": [
        {
          "output_type": "stream",
          "name": "stdout",
          "text": [
            "Model: \"model_7\"\n",
            "_________________________________________________________________\n",
            " Layer (type)                Output Shape              Param #   \n",
            "=================================================================\n",
            " input_10 (InputLayer)       [(None, 200, 1)]          0         \n",
            "                                                                 \n",
            " flatten_8 (Flatten)         (None, 200)               0         \n",
            "                                                                 \n",
            " dense_21 (Dense)            (None, 128)               25728     \n",
            "                                                                 \n",
            " dense_22 (Dense)            (None, 32)                4128      \n",
            "                                                                 \n",
            " dense_23 (Dense)            (None, 1)                 33        \n",
            "                                                                 \n",
            "=================================================================\n",
            "Total params: 29,889\n",
            "Trainable params: 29,889\n",
            "Non-trainable params: 0\n",
            "_________________________________________________________________\n",
            "Epoch 1/100\n",
            "89/89 [==============================] - 1s 4ms/step - loss: 0.0056 - val_loss: 0.0037\n",
            "Epoch 2/100\n",
            "89/89 [==============================] - 0s 3ms/step - loss: 0.0028 - val_loss: 0.0030\n",
            "Epoch 3/100\n",
            "89/89 [==============================] - 0s 3ms/step - loss: 0.0026 - val_loss: 0.0026\n",
            "Epoch 4/100\n",
            "89/89 [==============================] - 0s 3ms/step - loss: 0.0024 - val_loss: 0.0026\n",
            "Epoch 5/100\n",
            "89/89 [==============================] - 0s 3ms/step - loss: 0.0023 - val_loss: 0.0024\n",
            "Epoch 6/100\n",
            "89/89 [==============================] - 0s 3ms/step - loss: 0.0023 - val_loss: 0.0023\n",
            "Epoch 7/100\n",
            "89/89 [==============================] - 0s 3ms/step - loss: 0.0022 - val_loss: 0.0024\n",
            "Epoch 8/100\n",
            "89/89 [==============================] - 0s 3ms/step - loss: 0.0022 - val_loss: 0.0022\n",
            "Epoch 9/100\n",
            "89/89 [==============================] - 0s 3ms/step - loss: 0.0021 - val_loss: 0.0023\n",
            "Epoch 10/100\n",
            "89/89 [==============================] - 0s 3ms/step - loss: 0.0021 - val_loss: 0.0025\n",
            "Epoch 11/100\n",
            "89/89 [==============================] - 0s 3ms/step - loss: 0.0023 - val_loss: 0.0024\n",
            "Epoch 12/100\n",
            "89/89 [==============================] - 0s 3ms/step - loss: 0.0021 - val_loss: 0.0022\n",
            "Epoch 13/100\n",
            "89/89 [==============================] - 0s 3ms/step - loss: 0.0020 - val_loss: 0.0022\n",
            "Epoch 14/100\n",
            "89/89 [==============================] - 0s 3ms/step - loss: 0.0020 - val_loss: 0.0021\n",
            "Epoch 15/100\n",
            "89/89 [==============================] - 0s 3ms/step - loss: 0.0020 - val_loss: 0.0023\n",
            "Epoch 16/100\n",
            "89/89 [==============================] - 0s 3ms/step - loss: 0.0019 - val_loss: 0.0022\n",
            "Epoch 17/100\n",
            "89/89 [==============================] - 0s 3ms/step - loss: 0.0020 - val_loss: 0.0023\n",
            "Epoch 18/100\n",
            "89/89 [==============================] - 0s 3ms/step - loss: 0.0019 - val_loss: 0.0024\n",
            "Epoch 19/100\n",
            "89/89 [==============================] - 0s 3ms/step - loss: 0.0019 - val_loss: 0.0024\n",
            "Epoch 20/100\n",
            "89/89 [==============================] - 0s 3ms/step - loss: 0.0019 - val_loss: 0.0024\n",
            "Epoch 21/100\n",
            "89/89 [==============================] - 0s 3ms/step - loss: 0.0019 - val_loss: 0.0026\n",
            "Epoch 22/100\n",
            "89/89 [==============================] - 0s 3ms/step - loss: 0.0018 - val_loss: 0.0024\n",
            "Epoch 23/100\n",
            "89/89 [==============================] - 0s 3ms/step - loss: 0.0018 - val_loss: 0.0023\n",
            "Epoch 24/100\n",
            "89/89 [==============================] - 0s 3ms/step - loss: 0.0017 - val_loss: 0.0024\n",
            "Epoch 25/100\n",
            "89/89 [==============================] - 0s 3ms/step - loss: 0.0018 - val_loss: 0.0031\n",
            "Epoch 26/100\n",
            "89/89 [==============================] - 0s 3ms/step - loss: 0.0019 - val_loss: 0.0023\n",
            "Epoch 27/100\n",
            "89/89 [==============================] - 0s 3ms/step - loss: 0.0017 - val_loss: 0.0025\n",
            "Epoch 28/100\n",
            "89/89 [==============================] - 0s 3ms/step - loss: 0.0017 - val_loss: 0.0030\n",
            "Epoch 29/100\n",
            "89/89 [==============================] - 0s 3ms/step - loss: 0.0016 - val_loss: 0.0026\n",
            "Epoch 30/100\n",
            "89/89 [==============================] - 0s 3ms/step - loss: 0.0016 - val_loss: 0.0025\n",
            "Epoch 31/100\n",
            "89/89 [==============================] - 0s 3ms/step - loss: 0.0015 - val_loss: 0.0029\n",
            "Epoch 32/100\n",
            "89/89 [==============================] - 0s 3ms/step - loss: 0.0016 - val_loss: 0.0026\n",
            "Epoch 33/100\n",
            "89/89 [==============================] - 0s 3ms/step - loss: 0.0015 - val_loss: 0.0030\n",
            "Epoch 34/100\n",
            "89/89 [==============================] - 0s 3ms/step - loss: 0.0014 - val_loss: 0.0027\n",
            "Epoch 35/100\n",
            "89/89 [==============================] - 0s 3ms/step - loss: 0.0014 - val_loss: 0.0040\n",
            "Epoch 36/100\n",
            "89/89 [==============================] - 0s 3ms/step - loss: 0.0016 - val_loss: 0.0029\n",
            "Epoch 37/100\n",
            "89/89 [==============================] - 0s 3ms/step - loss: 0.0014 - val_loss: 0.0027\n",
            "Epoch 38/100\n",
            "89/89 [==============================] - 0s 3ms/step - loss: 0.0013 - val_loss: 0.0033\n",
            "Epoch 39/100\n",
            "89/89 [==============================] - 0s 3ms/step - loss: 0.0013 - val_loss: 0.0033\n",
            "Epoch 40/100\n",
            "89/89 [==============================] - 0s 3ms/step - loss: 0.0013 - val_loss: 0.0026\n",
            "Epoch 41/100\n",
            "89/89 [==============================] - 0s 3ms/step - loss: 0.0013 - val_loss: 0.0036\n",
            "Epoch 42/100\n",
            "89/89 [==============================] - 0s 3ms/step - loss: 0.0012 - val_loss: 0.0029\n",
            "Epoch 43/100\n",
            "89/89 [==============================] - 0s 3ms/step - loss: 0.0012 - val_loss: 0.0032\n",
            "Epoch 44/100\n",
            "89/89 [==============================] - 0s 3ms/step - loss: 0.0011 - val_loss: 0.0028\n",
            "Epoch 45/100\n",
            "89/89 [==============================] - 0s 3ms/step - loss: 0.0011 - val_loss: 0.0029\n",
            "Epoch 46/100\n",
            "89/89 [==============================] - 0s 3ms/step - loss: 0.0010 - val_loss: 0.0033\n",
            "Epoch 47/100\n",
            "89/89 [==============================] - 0s 3ms/step - loss: 0.0010 - val_loss: 0.0030\n",
            "Epoch 48/100\n",
            "89/89 [==============================] - 0s 3ms/step - loss: 0.0011 - val_loss: 0.0034\n",
            "Epoch 49/100\n",
            "89/89 [==============================] - 0s 3ms/step - loss: 0.0010 - val_loss: 0.0082\n",
            "Epoch 50/100\n",
            "89/89 [==============================] - 0s 3ms/step - loss: 0.0021 - val_loss: 0.0030\n",
            "Epoch 51/100\n",
            "89/89 [==============================] - 0s 3ms/step - loss: 0.0015 - val_loss: 0.0029\n",
            "Epoch 52/100\n",
            "89/89 [==============================] - 0s 3ms/step - loss: 0.0014 - val_loss: 0.0033\n",
            "Epoch 53/100\n",
            "89/89 [==============================] - 0s 3ms/step - loss: 0.0013 - val_loss: 0.0034\n",
            "Epoch 54/100\n",
            "89/89 [==============================] - 0s 3ms/step - loss: 0.0012 - val_loss: 0.0033\n",
            "Epoch 55/100\n",
            "89/89 [==============================] - 0s 3ms/step - loss: 0.0011 - val_loss: 0.0031\n",
            "Epoch 56/100\n",
            "89/89 [==============================] - 0s 3ms/step - loss: 0.0010 - val_loss: 0.0038\n",
            "Epoch 57/100\n",
            "89/89 [==============================] - 0s 3ms/step - loss: 0.0010 - val_loss: 0.0030\n",
            "Epoch 58/100\n",
            "89/89 [==============================] - 0s 3ms/step - loss: 0.0011 - val_loss: 0.0036\n",
            "Epoch 59/100\n",
            "89/89 [==============================] - 0s 3ms/step - loss: 9.3430e-04 - val_loss: 0.0032\n",
            "Epoch 60/100\n",
            "89/89 [==============================] - 0s 3ms/step - loss: 9.2670e-04 - val_loss: 0.0036\n",
            "Epoch 61/100\n",
            "89/89 [==============================] - 0s 3ms/step - loss: 8.8596e-04 - val_loss: 0.0032\n",
            "Epoch 62/100\n",
            "89/89 [==============================] - 0s 3ms/step - loss: 8.6676e-04 - val_loss: 0.0035\n",
            "Epoch 63/100\n",
            "89/89 [==============================] - 0s 3ms/step - loss: 8.4944e-04 - val_loss: 0.0035\n",
            "Epoch 64/100\n",
            "89/89 [==============================] - 0s 3ms/step - loss: 8.7416e-04 - val_loss: 0.0038\n",
            "Epoch 65/100\n",
            "89/89 [==============================] - 0s 3ms/step - loss: 0.0012 - val_loss: 0.0033\n",
            "Epoch 66/100\n",
            "89/89 [==============================] - 0s 3ms/step - loss: 8.7715e-04 - val_loss: 0.0034\n",
            "Epoch 67/100\n",
            "89/89 [==============================] - 0s 3ms/step - loss: 8.1022e-04 - val_loss: 0.0030\n",
            "Epoch 68/100\n",
            "89/89 [==============================] - 0s 3ms/step - loss: 7.9597e-04 - val_loss: 0.0034\n",
            "Epoch 69/100\n",
            "89/89 [==============================] - 0s 3ms/step - loss: 7.9799e-04 - val_loss: 0.0039\n",
            "Epoch 70/100\n",
            "89/89 [==============================] - 0s 3ms/step - loss: 7.5442e-04 - val_loss: 0.0032\n",
            "Epoch 71/100\n",
            "89/89 [==============================] - 0s 3ms/step - loss: 6.8338e-04 - val_loss: 0.0035\n",
            "Epoch 72/100\n",
            "89/89 [==============================] - 0s 3ms/step - loss: 7.7170e-04 - val_loss: 0.0035\n",
            "Epoch 73/100\n",
            "89/89 [==============================] - 0s 3ms/step - loss: 7.4665e-04 - val_loss: 0.0031\n",
            "Epoch 74/100\n",
            "89/89 [==============================] - 0s 3ms/step - loss: 7.2060e-04 - val_loss: 0.0035\n",
            "Epoch 75/100\n",
            "89/89 [==============================] - 0s 3ms/step - loss: 7.0457e-04 - val_loss: 0.0034\n",
            "Epoch 76/100\n",
            "89/89 [==============================] - 0s 3ms/step - loss: 6.9408e-04 - val_loss: 0.0033\n",
            "Epoch 77/100\n",
            "89/89 [==============================] - 0s 3ms/step - loss: 6.0137e-04 - val_loss: 0.0031\n",
            "Epoch 78/100\n",
            "89/89 [==============================] - 0s 3ms/step - loss: 7.7372e-04 - val_loss: 0.0034\n",
            "Epoch 79/100\n",
            "89/89 [==============================] - 0s 3ms/step - loss: 6.3577e-04 - val_loss: 0.0032\n",
            "Epoch 80/100\n",
            "89/89 [==============================] - 0s 3ms/step - loss: 6.0978e-04 - val_loss: 0.0039\n",
            "Epoch 81/100\n",
            "89/89 [==============================] - 0s 3ms/step - loss: 0.0010 - val_loss: 0.0034\n",
            "Epoch 82/100\n",
            "89/89 [==============================] - 0s 3ms/step - loss: 7.6807e-04 - val_loss: 0.0037\n",
            "Epoch 83/100\n",
            "89/89 [==============================] - 0s 3ms/step - loss: 8.0372e-04 - val_loss: 0.0029\n",
            "Epoch 84/100\n",
            "89/89 [==============================] - 0s 3ms/step - loss: 6.4527e-04 - val_loss: 0.0036\n",
            "Epoch 85/100\n",
            "89/89 [==============================] - 0s 3ms/step - loss: 6.7243e-04 - val_loss: 0.0033\n",
            "Epoch 86/100\n",
            "89/89 [==============================] - 0s 3ms/step - loss: 5.8224e-04 - val_loss: 0.0030\n",
            "Epoch 87/100\n",
            "89/89 [==============================] - 0s 3ms/step - loss: 5.4886e-04 - val_loss: 0.0031\n",
            "Epoch 88/100\n",
            "89/89 [==============================] - 0s 3ms/step - loss: 5.3723e-04 - val_loss: 0.0031\n",
            "Epoch 89/100\n",
            "89/89 [==============================] - 0s 3ms/step - loss: 5.4027e-04 - val_loss: 0.0032\n",
            "Epoch 90/100\n",
            "89/89 [==============================] - 0s 3ms/step - loss: 5.2924e-04 - val_loss: 0.0029\n",
            "Epoch 91/100\n",
            "89/89 [==============================] - 0s 3ms/step - loss: 6.6838e-04 - val_loss: 0.0032\n",
            "Epoch 92/100\n",
            "89/89 [==============================] - 0s 3ms/step - loss: 5.8457e-04 - val_loss: 0.0030\n",
            "Epoch 93/100\n",
            "89/89 [==============================] - 0s 3ms/step - loss: 5.7450e-04 - val_loss: 0.0031\n",
            "Epoch 94/100\n",
            "89/89 [==============================] - 0s 3ms/step - loss: 5.1390e-04 - val_loss: 0.0030\n",
            "Epoch 95/100\n",
            "89/89 [==============================] - 0s 3ms/step - loss: 5.0412e-04 - val_loss: 0.0033\n",
            "Epoch 96/100\n",
            "89/89 [==============================] - 0s 3ms/step - loss: 4.8314e-04 - val_loss: 0.0032\n",
            "Epoch 97/100\n",
            "89/89 [==============================] - 0s 3ms/step - loss: 4.4846e-04 - val_loss: 0.0030\n",
            "Epoch 98/100\n",
            "89/89 [==============================] - 0s 3ms/step - loss: 4.2490e-04 - val_loss: 0.0030\n",
            "Epoch 99/100\n",
            "89/89 [==============================] - 0s 3ms/step - loss: 4.2294e-04 - val_loss: 0.0032\n",
            "Epoch 100/100\n",
            "89/89 [==============================] - 0s 3ms/step - loss: 4.0272e-04 - val_loss: 0.0031\n"
          ]
        },
        {
          "output_type": "execute_result",
          "data": {
            "text/plain": [
              "<keras.callbacks.History at 0x7f0a1b87b8d0>"
            ]
          },
          "metadata": {},
          "execution_count": 134
        }
      ]
    },
    {
      "cell_type": "code",
      "source": [
        "y_pred_dnn = scaler.inverse_transform(dnn_model.predict(x_test))\n",
        "\n",
        "rmse_score_dnn = math.sqrt(mean_squared_error(y_test_original, y_pred_dnn))\n",
        "print('Root Mean Squared Error : ',rmse_score_dnn)\n",
        "print('R-squared Score  : ',r2_score(y_test_original,y_pred_dnn))"
      ],
      "metadata": {
        "colab": {
          "base_uri": "https://localhost:8080/"
        },
        "id": "fLrYcxse0a10",
        "outputId": "c2d01081-4d45-4d2e-a110-caf028738253"
      },
      "execution_count": null,
      "outputs": [
        {
          "output_type": "stream",
          "name": "stdout",
          "text": [
            "Root Mean Squared Error :  4.1454007871760785\n",
            "R-squared Score  :  0.4045933575234957\n"
          ]
        }
      ]
    },
    {
      "cell_type": "code",
      "source": [
        "plot_model(dnn_model, show_shapes=True)"
      ],
      "metadata": {
        "colab": {
          "base_uri": "https://localhost:8080/",
          "height": 533
        },
        "id": "HxpOS9940-qC",
        "outputId": "1700034a-8afd-4e56-9207-29fe06ab8434"
      },
      "execution_count": null,
      "outputs": [
        {
          "output_type": "execute_result",
          "data": {
            "image/png": "[encoded data removed]",
            "text/plain": [
              "<IPython.core.display.Image object>"
            ]
          },
          "metadata": {},
          "execution_count": 139
        }
      ]
    },
    {
      "cell_type": "code",
      "source": [
        "dnn_model.save(\"/models/dnn_model.h5\")"
      ],
      "metadata": {
        "id": "y4u031vG0-na"
      },
      "execution_count": null,
      "outputs": []
    },
    {
      "cell_type": "markdown",
      "source": [
        "# Recurrent Neural Network"
      ],
      "metadata": {
        "id": "Al1PTjsI4HQz"
      }
    },
    {
      "cell_type": "code",
      "execution_count": null,
      "metadata": {
        "colab": {
          "base_uri": "https://localhost:8080/"
        },
        "id": "ltOeA7ZQQur9",
        "outputId": "49d80e91-5d9d-4b15-f915-fcd3f81952d5"
      },
      "outputs": [
        {
          "output_type": "stream",
          "name": "stdout",
          "text": [
            "Model: \"model_9\"\n",
            "_________________________________________________________________\n",
            " Layer (type)                Output Shape              Param #   \n",
            "=================================================================\n",
            " input_12 (InputLayer)       [(None, 200, 1)]          0         \n",
            "                                                                 \n",
            " lstm_4 (LSTM)               (None, 200, 50)           10400     \n",
            "                                                                 \n",
            " dropout_2 (Dropout)         (None, 200, 50)           0         \n",
            "                                                                 \n",
            " lstm_5 (LSTM)               (None, 50)                20200     \n",
            "                                                                 \n",
            " dense_25 (Dense)            (None, 1)                 51        \n",
            "                                                                 \n",
            "=================================================================\n",
            "Total params: 30,651\n",
            "Trainable params: 30,651\n",
            "Non-trainable params: 0\n",
            "_________________________________________________________________\n",
            "Epoch 1/100\n",
            "89/89 [==============================] - 5s 33ms/step - loss: 0.0032 - val_loss: 0.0031\n",
            "Epoch 2/100\n",
            "89/89 [==============================] - 2s 22ms/step - loss: 0.0027 - val_loss: 0.0030\n",
            "Epoch 3/100\n",
            "89/89 [==============================] - 2s 22ms/step - loss: 0.0026 - val_loss: 0.0027\n",
            "Epoch 4/100\n",
            "89/89 [==============================] - 2s 22ms/step - loss: 0.0026 - val_loss: 0.0026\n",
            "Epoch 5/100\n",
            "89/89 [==============================] - 2s 22ms/step - loss: 0.0025 - val_loss: 0.0024\n",
            "Epoch 6/100\n",
            "89/89 [==============================] - 2s 22ms/step - loss: 0.0025 - val_loss: 0.0023\n",
            "Epoch 7/100\n",
            "89/89 [==============================] - 2s 22ms/step - loss: 0.0025 - val_loss: 0.0022\n",
            "Epoch 8/100\n",
            "89/89 [==============================] - 2s 22ms/step - loss: 0.0024 - val_loss: 0.0021\n",
            "Epoch 9/100\n",
            "89/89 [==============================] - 2s 22ms/step - loss: 0.0024 - val_loss: 0.0021\n",
            "Epoch 10/100\n",
            "89/89 [==============================] - 2s 22ms/step - loss: 0.0024 - val_loss: 0.0020\n",
            "Epoch 11/100\n",
            "89/89 [==============================] - 2s 22ms/step - loss: 0.0024 - val_loss: 0.0024\n",
            "Epoch 12/100\n",
            "89/89 [==============================] - 2s 22ms/step - loss: 0.0025 - val_loss: 0.0021\n",
            "Epoch 13/100\n",
            "89/89 [==============================] - 2s 22ms/step - loss: 0.0024 - val_loss: 0.0020\n",
            "Epoch 14/100\n",
            "89/89 [==============================] - 2s 22ms/step - loss: 0.0023 - val_loss: 0.0019\n",
            "Epoch 15/100\n",
            "89/89 [==============================] - 2s 22ms/step - loss: 0.0023 - val_loss: 0.0020\n",
            "Epoch 16/100\n",
            "89/89 [==============================] - 2s 22ms/step - loss: 0.0023 - val_loss: 0.0019\n",
            "Epoch 17/100\n",
            "89/89 [==============================] - 2s 22ms/step - loss: 0.0024 - val_loss: 0.0019\n",
            "Epoch 18/100\n",
            "89/89 [==============================] - 2s 22ms/step - loss: 0.0023 - val_loss: 0.0020\n",
            "Epoch 19/100\n",
            "89/89 [==============================] - 2s 22ms/step - loss: 0.0023 - val_loss: 0.0021\n",
            "Epoch 20/100\n",
            "89/89 [==============================] - 2s 22ms/step - loss: 0.0023 - val_loss: 0.0019\n",
            "Epoch 21/100\n",
            "89/89 [==============================] - 2s 22ms/step - loss: 0.0023 - val_loss: 0.0019\n",
            "Epoch 22/100\n",
            "89/89 [==============================] - 2s 22ms/step - loss: 0.0023 - val_loss: 0.0019\n",
            "Epoch 23/100\n",
            "89/89 [==============================] - 2s 21ms/step - loss: 0.0023 - val_loss: 0.0020\n",
            "Epoch 24/100\n",
            "89/89 [==============================] - 2s 22ms/step - loss: 0.0023 - val_loss: 0.0020\n",
            "Epoch 25/100\n",
            "89/89 [==============================] - 2s 22ms/step - loss: 0.0023 - val_loss: 0.0020\n",
            "Epoch 26/100\n",
            "89/89 [==============================] - 2s 22ms/step - loss: 0.0023 - val_loss: 0.0020\n",
            "Epoch 27/100\n",
            "89/89 [==============================] - 2s 22ms/step - loss: 0.0023 - val_loss: 0.0021\n",
            "Epoch 28/100\n",
            "89/89 [==============================] - 2s 21ms/step - loss: 0.0023 - val_loss: 0.0020\n",
            "Epoch 29/100\n",
            "89/89 [==============================] - 2s 22ms/step - loss: 0.0023 - val_loss: 0.0021\n",
            "Epoch 30/100\n",
            "89/89 [==============================] - 2s 22ms/step - loss: 0.0023 - val_loss: 0.0019\n",
            "Epoch 31/100\n",
            "89/89 [==============================] - 2s 22ms/step - loss: 0.0023 - val_loss: 0.0019\n",
            "Epoch 32/100\n",
            "89/89 [==============================] - 2s 22ms/step - loss: 0.0023 - val_loss: 0.0020\n",
            "Epoch 33/100\n",
            "89/89 [==============================] - 2s 22ms/step - loss: 0.0023 - val_loss: 0.0019\n",
            "Epoch 34/100\n",
            "89/89 [==============================] - 2s 21ms/step - loss: 0.0023 - val_loss: 0.0020\n",
            "Epoch 35/100\n",
            "89/89 [==============================] - 2s 22ms/step - loss: 0.0023 - val_loss: 0.0019\n",
            "Epoch 36/100\n",
            "89/89 [==============================] - 2s 22ms/step - loss: 0.0023 - val_loss: 0.0020\n",
            "Epoch 37/100\n",
            "89/89 [==============================] - 2s 22ms/step - loss: 0.0023 - val_loss: 0.0019\n",
            "Epoch 38/100\n",
            "89/89 [==============================] - 2s 22ms/step - loss: 0.0023 - val_loss: 0.0019\n",
            "Epoch 39/100\n",
            "89/89 [==============================] - 2s 22ms/step - loss: 0.0023 - val_loss: 0.0019\n",
            "Epoch 40/100\n",
            "89/89 [==============================] - 2s 22ms/step - loss: 0.0023 - val_loss: 0.0019\n",
            "Epoch 41/100\n",
            "89/89 [==============================] - 2s 22ms/step - loss: 0.0023 - val_loss: 0.0019\n",
            "Epoch 42/100\n",
            "89/89 [==============================] - 2s 22ms/step - loss: 0.0023 - val_loss: 0.0019\n",
            "Epoch 43/100\n",
            "89/89 [==============================] - 2s 22ms/step - loss: 0.0023 - val_loss: 0.0019\n",
            "Epoch 44/100\n",
            "89/89 [==============================] - 2s 22ms/step - loss: 0.0023 - val_loss: 0.0019\n",
            "Epoch 45/100\n",
            "89/89 [==============================] - 2s 22ms/step - loss: 0.0023 - val_loss: 0.0019\n",
            "Epoch 46/100\n",
            "89/89 [==============================] - 2s 22ms/step - loss: 0.0023 - val_loss: 0.0019\n",
            "Epoch 47/100\n",
            "89/89 [==============================] - 2s 22ms/step - loss: 0.0023 - val_loss: 0.0019\n",
            "Epoch 48/100\n",
            "89/89 [==============================] - 2s 22ms/step - loss: 0.0023 - val_loss: 0.0019\n",
            "Epoch 49/100\n",
            "89/89 [==============================] - 2s 22ms/step - loss: 0.0023 - val_loss: 0.0019\n",
            "Epoch 50/100\n",
            "89/89 [==============================] - 2s 22ms/step - loss: 0.0023 - val_loss: 0.0019\n",
            "Epoch 51/100\n",
            "89/89 [==============================] - 2s 22ms/step - loss: 0.0023 - val_loss: 0.0020\n",
            "Epoch 52/100\n",
            "89/89 [==============================] - 2s 22ms/step - loss: 0.0023 - val_loss: 0.0019\n",
            "Epoch 53/100\n",
            "89/89 [==============================] - 2s 22ms/step - loss: 0.0022 - val_loss: 0.0019\n",
            "Epoch 54/100\n",
            "89/89 [==============================] - 2s 22ms/step - loss: 0.0023 - val_loss: 0.0020\n",
            "Epoch 55/100\n",
            "89/89 [==============================] - 2s 22ms/step - loss: 0.0023 - val_loss: 0.0020\n",
            "Epoch 56/100\n",
            "89/89 [==============================] - 2s 22ms/step - loss: 0.0022 - val_loss: 0.0019\n",
            "Epoch 57/100\n",
            "89/89 [==============================] - 2s 22ms/step - loss: 0.0023 - val_loss: 0.0019\n",
            "Epoch 58/100\n",
            "89/89 [==============================] - 2s 22ms/step - loss: 0.0022 - val_loss: 0.0019\n",
            "Epoch 59/100\n",
            "89/89 [==============================] - 2s 22ms/step - loss: 0.0023 - val_loss: 0.0019\n",
            "Epoch 60/100\n",
            "89/89 [==============================] - 2s 22ms/step - loss: 0.0023 - val_loss: 0.0020\n",
            "Epoch 61/100\n",
            "89/89 [==============================] - 2s 22ms/step - loss: 0.0023 - val_loss: 0.0020\n",
            "Epoch 62/100\n",
            "89/89 [==============================] - 2s 22ms/step - loss: 0.0023 - val_loss: 0.0019\n",
            "Epoch 63/100\n",
            "89/89 [==============================] - 2s 22ms/step - loss: 0.0023 - val_loss: 0.0020\n",
            "Epoch 64/100\n",
            "89/89 [==============================] - 2s 22ms/step - loss: 0.0023 - val_loss: 0.0019\n",
            "Epoch 65/100\n",
            "89/89 [==============================] - 2s 22ms/step - loss: 0.0022 - val_loss: 0.0019\n",
            "Epoch 66/100\n",
            "89/89 [==============================] - 2s 21ms/step - loss: 0.0022 - val_loss: 0.0019\n",
            "Epoch 67/100\n",
            "89/89 [==============================] - 2s 22ms/step - loss: 0.0023 - val_loss: 0.0020\n",
            "Epoch 68/100\n",
            "89/89 [==============================] - 2s 22ms/step - loss: 0.0023 - val_loss: 0.0019\n",
            "Epoch 69/100\n",
            "89/89 [==============================] - 2s 22ms/step - loss: 0.0023 - val_loss: 0.0019\n",
            "Epoch 70/100\n",
            "89/89 [==============================] - 2s 21ms/step - loss: 0.0023 - val_loss: 0.0019\n",
            "Epoch 71/100\n",
            "89/89 [==============================] - 2s 22ms/step - loss: 0.0022 - val_loss: 0.0020\n",
            "Epoch 72/100\n",
            "89/89 [==============================] - 2s 22ms/step - loss: 0.0022 - val_loss: 0.0019\n",
            "Epoch 73/100\n",
            "89/89 [==============================] - 2s 22ms/step - loss: 0.0022 - val_loss: 0.0019\n",
            "Epoch 74/100\n",
            "89/89 [==============================] - 2s 22ms/step - loss: 0.0023 - val_loss: 0.0019\n",
            "Epoch 75/100\n",
            "89/89 [==============================] - 2s 22ms/step - loss: 0.0023 - val_loss: 0.0019\n",
            "Epoch 76/100\n",
            "89/89 [==============================] - 2s 22ms/step - loss: 0.0023 - val_loss: 0.0020\n",
            "Epoch 77/100\n",
            "89/89 [==============================] - 2s 22ms/step - loss: 0.0022 - val_loss: 0.0019\n",
            "Epoch 78/100\n",
            "89/89 [==============================] - 2s 22ms/step - loss: 0.0022 - val_loss: 0.0020\n",
            "Epoch 79/100\n",
            "89/89 [==============================] - 2s 22ms/step - loss: 0.0022 - val_loss: 0.0019\n",
            "Epoch 80/100\n",
            "89/89 [==============================] - 2s 22ms/step - loss: 0.0023 - val_loss: 0.0020\n",
            "Epoch 81/100\n",
            "89/89 [==============================] - 2s 22ms/step - loss: 0.0022 - val_loss: 0.0019\n",
            "Epoch 82/100\n",
            "89/89 [==============================] - 2s 22ms/step - loss: 0.0023 - val_loss: 0.0019\n",
            "Epoch 83/100\n",
            "89/89 [==============================] - 2s 22ms/step - loss: 0.0022 - val_loss: 0.0020\n",
            "Epoch 84/100\n",
            "89/89 [==============================] - 2s 22ms/step - loss: 0.0022 - val_loss: 0.0019\n",
            "Epoch 85/100\n",
            "89/89 [==============================] - 2s 22ms/step - loss: 0.0022 - val_loss: 0.0021\n",
            "Epoch 86/100\n",
            "89/89 [==============================] - 2s 22ms/step - loss: 0.0024 - val_loss: 0.0020\n",
            "Epoch 87/100\n",
            "89/89 [==============================] - 2s 22ms/step - loss: 0.0022 - val_loss: 0.0020\n",
            "Epoch 88/100\n",
            "89/89 [==============================] - 2s 22ms/step - loss: 0.0022 - val_loss: 0.0020\n",
            "Epoch 89/100\n",
            "89/89 [==============================] - 2s 22ms/step - loss: 0.0022 - val_loss: 0.0020\n",
            "Epoch 90/100\n",
            "89/89 [==============================] - 2s 22ms/step - loss: 0.0023 - val_loss: 0.0019\n",
            "Epoch 91/100\n",
            "89/89 [==============================] - 2s 22ms/step - loss: 0.0022 - val_loss: 0.0019\n",
            "Epoch 92/100\n",
            "89/89 [==============================] - 2s 22ms/step - loss: 0.0022 - val_loss: 0.0019\n",
            "Epoch 93/100\n",
            "89/89 [==============================] - 2s 22ms/step - loss: 0.0022 - val_loss: 0.0019\n",
            "Epoch 94/100\n",
            "89/89 [==============================] - 2s 22ms/step - loss: 0.0022 - val_loss: 0.0019\n",
            "Epoch 95/100\n",
            "89/89 [==============================] - 2s 22ms/step - loss: 0.0022 - val_loss: 0.0019\n",
            "Epoch 96/100\n",
            "89/89 [==============================] - 2s 22ms/step - loss: 0.0022 - val_loss: 0.0020\n",
            "Epoch 97/100\n",
            "89/89 [==============================] - 2s 22ms/step - loss: 0.0022 - val_loss: 0.0019\n",
            "Epoch 98/100\n",
            "89/89 [==============================] - 2s 22ms/step - loss: 0.0022 - val_loss: 0.0020\n",
            "Epoch 99/100\n",
            "89/89 [==============================] - 2s 22ms/step - loss: 0.0022 - val_loss: 0.0019\n",
            "Epoch 100/100\n",
            "89/89 [==============================] - 2s 22ms/step - loss: 0.0022 - val_loss: 0.0020\n"
          ]
        },
        {
          "output_type": "execute_result",
          "data": {
            "text/plain": [
              "<keras.callbacks.History at 0x7f0b22da0c90>"
            ]
          },
          "metadata": {},
          "execution_count": 144
        }
      ],
      "source": [
        "inp = Input(shape = (x_train.shape[1], x_train.shape[2]))\n",
        "\n",
        "x = LSTM(units = 50, input_shape = (x_train.shape[1],1), return_sequences=True)(inp)\n",
        "x = Dropout(0.2)(x)\n",
        "x = LSTM(units = 50)(x)\n",
        "last = Dense(units = 1, activation = 'linear')(x)\n",
        "\n",
        "rnn_model = Model(inputs = inp, outputs = last)\n",
        "rnn_model.summary()\n",
        "\n",
        "rnn_model.compile(loss='mean_squared_error', optimizer='adam')\n",
        "rnn_model.fit(x_train, y_train, validation_data = (x_test, y_test) ,epochs= 100, batch_size= 64, verbose=1)"
      ]
    },
    {
      "cell_type": "code",
      "execution_count": null,
      "metadata": {
        "id": "fa2mHEZO4IgC",
        "colab": {
          "base_uri": "https://localhost:8080/"
        },
        "outputId": "074d5ca2-4809-4ecd-ce77-48fd25f2b349"
      },
      "outputs": [
        {
          "output_type": "stream",
          "name": "stdout",
          "text": [
            "Root Mean Squared Error :  3.3426965967920554\n",
            "R-squared Score  :  0.6128542083529072\n"
          ]
        }
      ],
      "source": [
        "y_pred_rnn = scaler.inverse_transform(rnn_model.predict(x_test))\n",
        "\n",
        "rmse_score_rnn = math.sqrt(mean_squared_error(y_test_original, y_pred_rnn))\n",
        "print('Root Mean Squared Error : ',rmse_score_rnn)\n",
        "print('R-squared Score  : ',r2_score(y_test_original,y_pred_rnn))"
      ]
    },
    {
      "cell_type": "code",
      "source": [
        "plot_model(rnn_model, show_shapes=True)"
      ],
      "metadata": {
        "colab": {
          "base_uri": "https://localhost:8080/",
          "height": 533
        },
        "id": "xqV_OL2M23Kf",
        "outputId": "567a31c5-de9a-43a8-9373-2108ef400982"
      },
      "execution_count": null,
      "outputs": [
        {
          "output_type": "execute_result",
          "data": {
            "image/png": "[encoded data removed]",
            "text/plain": [
              "<IPython.core.display.Image object>"
            ]
          },
          "metadata": {},
          "execution_count": 147
        }
      ]
    },
    {
      "cell_type": "code",
      "source": [
        "rnn_model.save(\"/models/rnn_model.h5\")"
      ],
      "metadata": {
        "id": "laZUAtxUUCEm"
      },
      "execution_count": null,
      "outputs": []
    },
    {
      "cell_type": "markdown",
      "source": [
        "# Convolutional Neural Network"
      ],
      "metadata": {
        "id": "YJraYPDO4YPz"
      }
    },
    {
      "cell_type": "code",
      "source": [
        "inp = Input(shape = (x_train.shape[1], x_train.shape[2]))\n",
        "\n",
        "x = Conv1D(16, 128, padding = \"valid\", strides = 1)(inp)\n",
        "x = BatchNormalization()(x)\n",
        "x = Dropout(rate=0.3)(x)\n",
        "x = Conv1D(32, 64, padding = \"valid\", strides = 1)(x)\n",
        "x = BatchNormalization()(x)\n",
        "x = Dropout(rate=0.3)(x)\n",
        "x = Flatten()(x)\n",
        "last = Dense(1, activation=\"linear\")(x)\n",
        "\n",
        "cnn_model = Model(inputs = inp, outputs = last)\n",
        "cnn_model.summary()\n",
        "\n",
        "cnn_model.compile(loss='mean_squared_error', optimizer='adam')\n",
        "cnn_model.fit(x_train, y_train, validation_data = (x_test, y_test) ,epochs= 100, batch_size= 64, verbose=1)"
      ],
      "metadata": {
        "colab": {
          "base_uri": "https://localhost:8080/"
        },
        "id": "tPAGMN7f236-",
        "outputId": "92684544-94bd-4433-87e6-4d4ca0e88af8"
      },
      "execution_count": null,
      "outputs": [
        {
          "output_type": "stream",
          "name": "stdout",
          "text": [
            "Model: \"model_11\"\n",
            "_________________________________________________________________\n",
            " Layer (type)                Output Shape              Param #   \n",
            "=================================================================\n",
            " input_16 (InputLayer)       [(None, 200, 1)]          0         \n",
            "                                                                 \n",
            " conv1d_3 (Conv1D)           (None, 73, 16)            2064      \n",
            "                                                                 \n",
            " batch_normalization_2 (Batc  (None, 73, 16)           64        \n",
            " hNormalization)                                                 \n",
            "                                                                 \n",
            " dropout_5 (Dropout)         (None, 73, 16)            0         \n",
            "                                                                 \n",
            " conv1d_4 (Conv1D)           (None, 10, 32)            32800     \n",
            "                                                                 \n",
            " batch_normalization_3 (Batc  (None, 10, 32)           128       \n",
            " hNormalization)                                                 \n",
            "                                                                 \n",
            " dropout_6 (Dropout)         (None, 10, 32)            0         \n",
            "                                                                 \n",
            " flatten_10 (Flatten)        (None, 320)               0         \n",
            "                                                                 \n",
            " dense_27 (Dense)            (None, 1)                 321       \n",
            "                                                                 \n",
            "=================================================================\n",
            "Total params: 35,377\n",
            "Trainable params: 35,281\n",
            "Non-trainable params: 96\n",
            "_________________________________________________________________\n",
            "Epoch 1/100\n",
            "89/89 [==============================] - 7s 8ms/step - loss: 1.1068 - val_loss: 0.0075\n",
            "Epoch 2/100\n",
            "89/89 [==============================] - 0s 5ms/step - loss: 0.4709 - val_loss: 0.0057\n",
            "Epoch 3/100\n",
            "89/89 [==============================] - 0s 5ms/step - loss: 0.3213 - val_loss: 0.0059\n",
            "Epoch 4/100\n",
            "89/89 [==============================] - 0s 5ms/step - loss: 0.2021 - val_loss: 0.0087\n",
            "Epoch 5/100\n",
            "89/89 [==============================] - 0s 5ms/step - loss: 0.1369 - val_loss: 0.0050\n",
            "Epoch 6/100\n",
            "89/89 [==============================] - 0s 5ms/step - loss: 0.0977 - val_loss: 0.0055\n",
            "Epoch 7/100\n",
            "89/89 [==============================] - 0s 5ms/step - loss: 0.0692 - val_loss: 0.0044\n",
            "Epoch 8/100\n",
            "89/89 [==============================] - 0s 5ms/step - loss: 0.0427 - val_loss: 0.0053\n",
            "Epoch 9/100\n",
            "89/89 [==============================] - 0s 5ms/step - loss: 0.0288 - val_loss: 0.0046\n",
            "Epoch 10/100\n",
            "89/89 [==============================] - 0s 5ms/step - loss: 0.0184 - val_loss: 0.0057\n",
            "Epoch 11/100\n",
            "89/89 [==============================] - 1s 6ms/step - loss: 0.0124 - val_loss: 0.0060\n",
            "Epoch 12/100\n",
            "89/89 [==============================] - 0s 5ms/step - loss: 0.0081 - val_loss: 0.0074\n",
            "Epoch 13/100\n",
            "89/89 [==============================] - 0s 5ms/step - loss: 0.0063 - val_loss: 0.0064\n",
            "Epoch 14/100\n",
            "89/89 [==============================] - 1s 6ms/step - loss: 0.0052 - val_loss: 0.0071\n",
            "Epoch 15/100\n",
            "89/89 [==============================] - 0s 5ms/step - loss: 0.0043 - val_loss: 0.0051\n",
            "Epoch 16/100\n",
            "89/89 [==============================] - 0s 5ms/step - loss: 0.0037 - val_loss: 0.0046\n",
            "Epoch 17/100\n",
            "89/89 [==============================] - 0s 5ms/step - loss: 0.0035 - val_loss: 0.0069\n",
            "Epoch 18/100\n",
            "89/89 [==============================] - 0s 5ms/step - loss: 0.0038 - val_loss: 0.0046\n",
            "Epoch 19/100\n",
            "89/89 [==============================] - 0s 5ms/step - loss: 0.0034 - val_loss: 0.0049\n",
            "Epoch 20/100\n",
            "89/89 [==============================] - 0s 5ms/step - loss: 0.0034 - val_loss: 0.0048\n",
            "Epoch 21/100\n",
            "89/89 [==============================] - 0s 5ms/step - loss: 0.0034 - val_loss: 0.0049\n",
            "Epoch 22/100\n",
            "89/89 [==============================] - 1s 6ms/step - loss: 0.0033 - val_loss: 0.0046\n",
            "Epoch 23/100\n",
            "89/89 [==============================] - 0s 5ms/step - loss: 0.0033 - val_loss: 0.0045\n",
            "Epoch 24/100\n",
            "89/89 [==============================] - 0s 5ms/step - loss: 0.0033 - val_loss: 0.0046\n",
            "Epoch 25/100\n",
            "89/89 [==============================] - 1s 6ms/step - loss: 0.0033 - val_loss: 0.0045\n",
            "Epoch 26/100\n",
            "89/89 [==============================] - 1s 6ms/step - loss: 0.0033 - val_loss: 0.0048\n",
            "Epoch 27/100\n",
            "89/89 [==============================] - 0s 6ms/step - loss: 0.0034 - val_loss: 0.0058\n",
            "Epoch 28/100\n",
            "89/89 [==============================] - 0s 5ms/step - loss: 0.0034 - val_loss: 0.0057\n",
            "Epoch 29/100\n",
            "89/89 [==============================] - 0s 5ms/step - loss: 0.0034 - val_loss: 0.0052\n",
            "Epoch 30/100\n",
            "89/89 [==============================] - 0s 5ms/step - loss: 0.0034 - val_loss: 0.0055\n",
            "Epoch 31/100\n",
            "89/89 [==============================] - 0s 5ms/step - loss: 0.0035 - val_loss: 0.0047\n",
            "Epoch 32/100\n",
            "89/89 [==============================] - 0s 5ms/step - loss: 0.0034 - val_loss: 0.0051\n",
            "Epoch 33/100\n",
            "89/89 [==============================] - 0s 5ms/step - loss: 0.0034 - val_loss: 0.0053\n",
            "Epoch 34/100\n",
            "89/89 [==============================] - 0s 5ms/step - loss: 0.0035 - val_loss: 0.0044\n",
            "Epoch 35/100\n",
            "89/89 [==============================] - 1s 6ms/step - loss: 0.0036 - val_loss: 0.0082\n",
            "Epoch 36/100\n",
            "89/89 [==============================] - 0s 5ms/step - loss: 0.0036 - val_loss: 0.0052\n",
            "Epoch 37/100\n",
            "89/89 [==============================] - 0s 5ms/step - loss: 0.0035 - val_loss: 0.0059\n",
            "Epoch 38/100\n",
            "89/89 [==============================] - 0s 5ms/step - loss: 0.0036 - val_loss: 0.0045\n",
            "Epoch 39/100\n",
            "89/89 [==============================] - 0s 5ms/step - loss: 0.0034 - val_loss: 0.0049\n",
            "Epoch 40/100\n",
            "89/89 [==============================] - 0s 5ms/step - loss: 0.0035 - val_loss: 0.0051\n",
            "Epoch 41/100\n",
            "89/89 [==============================] - 0s 5ms/step - loss: 0.0034 - val_loss: 0.0095\n",
            "Epoch 42/100\n",
            "89/89 [==============================] - 0s 5ms/step - loss: 0.0042 - val_loss: 0.0093\n",
            "Epoch 43/100\n",
            "89/89 [==============================] - 0s 5ms/step - loss: 0.0036 - val_loss: 0.0045\n",
            "Epoch 44/100\n",
            "89/89 [==============================] - 1s 6ms/step - loss: 0.0037 - val_loss: 0.0067\n",
            "Epoch 45/100\n",
            "89/89 [==============================] - 0s 5ms/step - loss: 0.0035 - val_loss: 0.0042\n",
            "Epoch 46/100\n",
            "89/89 [==============================] - 0s 5ms/step - loss: 0.0038 - val_loss: 0.0134\n",
            "Epoch 47/100\n",
            "89/89 [==============================] - 0s 5ms/step - loss: 0.0039 - val_loss: 0.0050\n",
            "Epoch 48/100\n",
            "89/89 [==============================] - 0s 5ms/step - loss: 0.0035 - val_loss: 0.0046\n",
            "Epoch 49/100\n",
            "89/89 [==============================] - 0s 5ms/step - loss: 0.0036 - val_loss: 0.0090\n",
            "Epoch 50/100\n",
            "89/89 [==============================] - 0s 5ms/step - loss: 0.0037 - val_loss: 0.0044\n",
            "Epoch 51/100\n",
            "89/89 [==============================] - 0s 5ms/step - loss: 0.0040 - val_loss: 0.0044\n",
            "Epoch 52/100\n",
            "89/89 [==============================] - 0s 5ms/step - loss: 0.0038 - val_loss: 0.0068\n",
            "Epoch 53/100\n",
            "89/89 [==============================] - 0s 5ms/step - loss: 0.0035 - val_loss: 0.0080\n",
            "Epoch 54/100\n",
            "89/89 [==============================] - 0s 5ms/step - loss: 0.0037 - val_loss: 0.0090\n",
            "Epoch 55/100\n",
            "89/89 [==============================] - 0s 5ms/step - loss: 0.0037 - val_loss: 0.0109\n",
            "Epoch 56/100\n",
            "89/89 [==============================] - 0s 5ms/step - loss: 0.0039 - val_loss: 0.0048\n",
            "Epoch 57/100\n",
            "89/89 [==============================] - 0s 5ms/step - loss: 0.0035 - val_loss: 0.0065\n",
            "Epoch 58/100\n",
            "89/89 [==============================] - 0s 5ms/step - loss: 0.0038 - val_loss: 0.0040\n",
            "Epoch 59/100\n",
            "89/89 [==============================] - 0s 5ms/step - loss: 0.0036 - val_loss: 0.0037\n",
            "Epoch 60/100\n",
            "89/89 [==============================] - 1s 6ms/step - loss: 0.0035 - val_loss: 0.0070\n",
            "Epoch 61/100\n",
            "89/89 [==============================] - 0s 5ms/step - loss: 0.0040 - val_loss: 0.0100\n",
            "Epoch 62/100\n",
            "89/89 [==============================] - 0s 5ms/step - loss: 0.0039 - val_loss: 0.0429\n",
            "Epoch 63/100\n",
            "89/89 [==============================] - 0s 5ms/step - loss: 0.0080 - val_loss: 0.0063\n",
            "Epoch 64/100\n",
            "89/89 [==============================] - 1s 6ms/step - loss: 0.0038 - val_loss: 0.0075\n",
            "Epoch 65/100\n",
            "89/89 [==============================] - 0s 5ms/step - loss: 0.0035 - val_loss: 0.0043\n",
            "Epoch 66/100\n",
            "89/89 [==============================] - 0s 5ms/step - loss: 0.0034 - val_loss: 0.0036\n",
            "Epoch 67/100\n",
            "89/89 [==============================] - 0s 5ms/step - loss: 0.0032 - val_loss: 0.0068\n",
            "Epoch 68/100\n",
            "89/89 [==============================] - 0s 5ms/step - loss: 0.0041 - val_loss: 0.0105\n",
            "Epoch 69/100\n",
            "89/89 [==============================] - 0s 5ms/step - loss: 0.0037 - val_loss: 0.0057\n",
            "Epoch 70/100\n",
            "89/89 [==============================] - 0s 6ms/step - loss: 0.0035 - val_loss: 0.0078\n",
            "Epoch 71/100\n",
            "89/89 [==============================] - 1s 6ms/step - loss: 0.0036 - val_loss: 0.0040\n",
            "Epoch 72/100\n",
            "89/89 [==============================] - 1s 6ms/step - loss: 0.0033 - val_loss: 0.0042\n",
            "Epoch 73/100\n",
            "89/89 [==============================] - 0s 5ms/step - loss: 0.0037 - val_loss: 0.0034\n",
            "Epoch 74/100\n",
            "89/89 [==============================] - 0s 5ms/step - loss: 0.0036 - val_loss: 0.0037\n",
            "Epoch 75/100\n",
            "89/89 [==============================] - 0s 5ms/step - loss: 0.0038 - val_loss: 0.0043\n",
            "Epoch 76/100\n",
            "89/89 [==============================] - 1s 6ms/step - loss: 0.0035 - val_loss: 0.0059\n",
            "Epoch 77/100\n",
            "89/89 [==============================] - 0s 5ms/step - loss: 0.0036 - val_loss: 0.0039\n",
            "Epoch 78/100\n",
            "89/89 [==============================] - 0s 5ms/step - loss: 0.0031 - val_loss: 0.0042\n",
            "Epoch 79/100\n",
            "89/89 [==============================] - 0s 5ms/step - loss: 0.0032 - val_loss: 0.0037\n",
            "Epoch 80/100\n",
            "89/89 [==============================] - 0s 5ms/step - loss: 0.0032 - val_loss: 0.0037\n",
            "Epoch 81/100\n",
            "89/89 [==============================] - 0s 5ms/step - loss: 0.0034 - val_loss: 0.0050\n",
            "Epoch 82/100\n",
            "89/89 [==============================] - 0s 5ms/step - loss: 0.0032 - val_loss: 0.0052\n",
            "Epoch 83/100\n",
            "89/89 [==============================] - 0s 5ms/step - loss: 0.0033 - val_loss: 0.0051\n",
            "Epoch 84/100\n",
            "89/89 [==============================] - 0s 5ms/step - loss: 0.0034 - val_loss: 0.0061\n",
            "Epoch 85/100\n",
            "89/89 [==============================] - 0s 5ms/step - loss: 0.0035 - val_loss: 0.0050\n",
            "Epoch 86/100\n",
            "89/89 [==============================] - 1s 6ms/step - loss: 0.0041 - val_loss: 0.0116\n",
            "Epoch 87/100\n",
            "89/89 [==============================] - 0s 5ms/step - loss: 0.0033 - val_loss: 0.0039\n",
            "Epoch 88/100\n",
            "89/89 [==============================] - 0s 5ms/step - loss: 0.0032 - val_loss: 0.0056\n",
            "Epoch 89/100\n",
            "89/89 [==============================] - 0s 5ms/step - loss: 0.0035 - val_loss: 0.0074\n",
            "Epoch 90/100\n",
            "89/89 [==============================] - 0s 5ms/step - loss: 0.0031 - val_loss: 0.0041\n",
            "Epoch 91/100\n",
            "89/89 [==============================] - 0s 5ms/step - loss: 0.0031 - val_loss: 0.0040\n",
            "Epoch 92/100\n",
            "89/89 [==============================] - 1s 6ms/step - loss: 0.0030 - val_loss: 0.0034\n",
            "Epoch 93/100\n",
            "89/89 [==============================] - 0s 5ms/step - loss: 0.0031 - val_loss: 0.0030\n",
            "Epoch 94/100\n",
            "89/89 [==============================] - 1s 6ms/step - loss: 0.0030 - val_loss: 0.0051\n",
            "Epoch 95/100\n",
            "89/89 [==============================] - 0s 5ms/step - loss: 0.0036 - val_loss: 0.0045\n",
            "Epoch 96/100\n",
            "89/89 [==============================] - 0s 5ms/step - loss: 0.0035 - val_loss: 0.0033\n",
            "Epoch 97/100\n",
            "89/89 [==============================] - 0s 5ms/step - loss: 0.0030 - val_loss: 0.0032\n",
            "Epoch 98/100\n",
            "89/89 [==============================] - 0s 5ms/step - loss: 0.0032 - val_loss: 0.0038\n",
            "Epoch 99/100\n",
            "89/89 [==============================] - 0s 5ms/step - loss: 0.0031 - val_loss: 0.0042\n",
            "Epoch 100/100\n",
            "89/89 [==============================] - 0s 5ms/step - loss: 0.0029 - val_loss: 0.0026\n"
          ]
        },
        {
          "output_type": "execute_result",
          "data": {
            "text/plain": [
              "<keras.callbacks.History at 0x7f09f8346290>"
            ]
          },
          "metadata": {},
          "execution_count": 155
        }
      ]
    },
    {
      "cell_type": "code",
      "source": [
        "y_pred_cnn = scaler.inverse_transform(cnn_model.predict(x_test))\n",
        "\n",
        "rmse_score_cnn = math.sqrt(mean_squared_error(y_test_original, y_pred_cnn))\n",
        "print('Root Mean Squared Error : ',rmse_score_cnn)\n",
        "print('R-squared Score  : ',r2_score(y_test_original,y_pred_cnn))"
      ],
      "metadata": {
        "colab": {
          "base_uri": "https://localhost:8080/"
        },
        "id": "oA4P1Kin2337",
        "outputId": "3e063a1a-3506-4991-f664-032b14444337"
      },
      "execution_count": null,
      "outputs": [
        {
          "output_type": "stream",
          "name": "stdout",
          "text": [
            "Root Mean Squared Error :  3.841779178729176\n",
            "R-squared Score  :  0.4886180189100492\n"
          ]
        }
      ]
    },
    {
      "cell_type": "code",
      "source": [
        "plot_model(cnn_model, show_shapes=True)"
      ],
      "metadata": {
        "colab": {
          "base_uri": "https://localhost:8080/",
          "height": 976
        },
        "id": "-4rQkHu0231f",
        "outputId": "a55c2612-1a1d-4677-8ee7-e8793068e1fd"
      },
      "execution_count": null,
      "outputs": [
        {
          "output_type": "execute_result",
          "data": {
            "image/png": "[encoded data removed]",
            "text/plain": [
              "<IPython.core.display.Image object>"
            ]
          },
          "metadata": {},
          "execution_count": 157
        }
      ]
    },
    {
      "cell_type": "code",
      "source": [
        "cnn_model.save(\"/models/cnn_model.h5\")"
      ],
      "metadata": {
        "id": "kmeNt8Jr23x_"
      },
      "execution_count": null,
      "outputs": []
    },
    {
      "cell_type": "markdown",
      "source": [
        "# Ensemble Model"
      ],
      "metadata": {
        "id": "vXS5GsP46rP1"
      }
    },
    {
      "cell_type": "code",
      "source": [
        "inp = Input(shape = (x_train.shape[1], x_train.shape[2]))\n",
        "\n",
        "rnn_out = rnn_model(inp)\n",
        "cnn_out = cnn_model(inp)\n",
        "x = Concatenate()([rnn_out, cnn_out])\n",
        "last = Dense(1, activation=\"linear\")(x)\n",
        "\n",
        "ensemble_model = Model(inputs = inp, outputs = last)\n",
        "ensemble_model.summary()\n",
        "\n",
        "ensemble_model.compile(loss='mean_squared_error', optimizer='adam')\n",
        "ensemble_model.fit(x_train, y_train, validation_data = (x_test, y_test) ,epochs= 100, batch_size= 64, verbose=1)"
      ],
      "metadata": {
        "colab": {
          "base_uri": "https://localhost:8080/"
        },
        "id": "RQNx3LGm66mG",
        "outputId": "91d54c99-1917-4cd5-afca-b85918eda0ca"
      },
      "execution_count": null,
      "outputs": [
        {
          "output_type": "stream",
          "name": "stdout",
          "text": [
            "Model: \"model_14\"\n",
            "__________________________________________________________________________________________________\n",
            " Layer (type)                   Output Shape         Param #     Connected to                     \n",
            "==================================================================================================\n",
            " input_21 (InputLayer)          [(None, 200, 1)]     0           []                               \n",
            "                                                                                                  \n",
            " model_9 (Functional)           (None, 1)            30651       ['input_21[0][0]']               \n",
            "                                                                                                  \n",
            " model_11 (Functional)          (None, 1)            35377       ['input_21[0][0]']               \n",
            "                                                                                                  \n",
            " concatenate_3 (Concatenate)    (None, 2)            0           ['model_9[4][0]',                \n",
            "                                                                  'model_11[4][0]']               \n",
            "                                                                                                  \n",
            " dense_30 (Dense)               (None, 1)            3           ['concatenate_3[0][0]']          \n",
            "                                                                                                  \n",
            "==================================================================================================\n",
            "Total params: 66,031\n",
            "Trainable params: 65,935\n",
            "Non-trainable params: 96\n",
            "__________________________________________________________________________________________________\n",
            "Epoch 1/100\n",
            "89/89 [==============================] - 6s 32ms/step - loss: 0.0040 - val_loss: 0.0024\n",
            "Epoch 2/100\n",
            "89/89 [==============================] - 2s 24ms/step - loss: 0.0022 - val_loss: 0.0021\n",
            "Epoch 3/100\n",
            "89/89 [==============================] - 2s 24ms/step - loss: 0.0021 - val_loss: 0.0022\n",
            "Epoch 4/100\n",
            "89/89 [==============================] - 2s 24ms/step - loss: 0.0021 - val_loss: 0.0024\n",
            "Epoch 5/100\n",
            "89/89 [==============================] - 2s 24ms/step - loss: 0.0022 - val_loss: 0.0020\n",
            "Epoch 6/100\n",
            "89/89 [==============================] - 2s 24ms/step - loss: 0.0021 - val_loss: 0.0021\n",
            "Epoch 7/100\n",
            "89/89 [==============================] - 2s 24ms/step - loss: 0.0021 - val_loss: 0.0020\n",
            "Epoch 8/100\n",
            "89/89 [==============================] - 2s 24ms/step - loss: 0.0021 - val_loss: 0.0020\n",
            "Epoch 9/100\n",
            "89/89 [==============================] - 2s 24ms/step - loss: 0.0021 - val_loss: 0.0021\n",
            "Epoch 10/100\n",
            "89/89 [==============================] - 2s 24ms/step - loss: 0.0021 - val_loss: 0.0020\n",
            "Epoch 11/100\n",
            "89/89 [==============================] - 2s 24ms/step - loss: 0.0021 - val_loss: 0.0022\n",
            "Epoch 12/100\n",
            "89/89 [==============================] - 2s 24ms/step - loss: 0.0021 - val_loss: 0.0021\n",
            "Epoch 13/100\n",
            "89/89 [==============================] - 2s 24ms/step - loss: 0.0021 - val_loss: 0.0021\n",
            "Epoch 14/100\n",
            "89/89 [==============================] - 2s 24ms/step - loss: 0.0020 - val_loss: 0.0021\n",
            "Epoch 15/100\n",
            "89/89 [==============================] - 2s 24ms/step - loss: 0.0020 - val_loss: 0.0020\n",
            "Epoch 16/100\n",
            "89/89 [==============================] - 2s 24ms/step - loss: 0.0020 - val_loss: 0.0021\n",
            "Epoch 17/100\n",
            "89/89 [==============================] - 2s 24ms/step - loss: 0.0021 - val_loss: 0.0022\n",
            "Epoch 18/100\n",
            "89/89 [==============================] - 2s 24ms/step - loss: 0.0021 - val_loss: 0.0021\n",
            "Epoch 19/100\n",
            "89/89 [==============================] - 2s 24ms/step - loss: 0.0020 - val_loss: 0.0021\n",
            "Epoch 20/100\n",
            "89/89 [==============================] - 2s 24ms/step - loss: 0.0020 - val_loss: 0.0022\n",
            "Epoch 21/100\n",
            "89/89 [==============================] - 2s 24ms/step - loss: 0.0020 - val_loss: 0.0020\n",
            "Epoch 22/100\n",
            "89/89 [==============================] - 2s 24ms/step - loss: 0.0020 - val_loss: 0.0022\n",
            "Epoch 23/100\n",
            "89/89 [==============================] - 2s 24ms/step - loss: 0.0020 - val_loss: 0.0021\n",
            "Epoch 24/100\n",
            "89/89 [==============================] - 2s 24ms/step - loss: 0.0020 - val_loss: 0.0022\n",
            "Epoch 25/100\n",
            "89/89 [==============================] - 2s 24ms/step - loss: 0.0020 - val_loss: 0.0023\n",
            "Epoch 26/100\n",
            "89/89 [==============================] - 2s 24ms/step - loss: 0.0020 - val_loss: 0.0022\n",
            "Epoch 27/100\n",
            "89/89 [==============================] - 2s 24ms/step - loss: 0.0020 - val_loss: 0.0021\n",
            "Epoch 28/100\n",
            "89/89 [==============================] - 2s 24ms/step - loss: 0.0020 - val_loss: 0.0022\n",
            "Epoch 29/100\n",
            "89/89 [==============================] - 2s 24ms/step - loss: 0.0020 - val_loss: 0.0023\n",
            "Epoch 30/100\n",
            "89/89 [==============================] - 2s 24ms/step - loss: 0.0020 - val_loss: 0.0023\n",
            "Epoch 31/100\n",
            "89/89 [==============================] - 2s 24ms/step - loss: 0.0020 - val_loss: 0.0023\n",
            "Epoch 32/100\n",
            "89/89 [==============================] - 2s 24ms/step - loss: 0.0020 - val_loss: 0.0023\n",
            "Epoch 33/100\n",
            "89/89 [==============================] - 2s 24ms/step - loss: 0.0021 - val_loss: 0.0024\n",
            "Epoch 34/100\n",
            "89/89 [==============================] - 2s 24ms/step - loss: 0.0020 - val_loss: 0.0023\n",
            "Epoch 35/100\n",
            "89/89 [==============================] - 2s 24ms/step - loss: 0.0020 - val_loss: 0.0025\n",
            "Epoch 36/100\n",
            "89/89 [==============================] - 2s 24ms/step - loss: 0.0020 - val_loss: 0.0024\n",
            "Epoch 37/100\n",
            "89/89 [==============================] - 2s 24ms/step - loss: 0.0020 - val_loss: 0.0024\n",
            "Epoch 38/100\n",
            "89/89 [==============================] - 2s 24ms/step - loss: 0.0020 - val_loss: 0.0023\n",
            "Epoch 39/100\n",
            "89/89 [==============================] - 2s 24ms/step - loss: 0.0020 - val_loss: 0.0021\n",
            "Epoch 40/100\n",
            "89/89 [==============================] - 2s 24ms/step - loss: 0.0020 - val_loss: 0.0024\n",
            "Epoch 41/100\n",
            "89/89 [==============================] - 2s 24ms/step - loss: 0.0020 - val_loss: 0.0025\n",
            "Epoch 42/100\n",
            "89/89 [==============================] - 2s 24ms/step - loss: 0.0021 - val_loss: 0.0021\n",
            "Epoch 43/100\n",
            "89/89 [==============================] - 2s 24ms/step - loss: 0.0020 - val_loss: 0.0022\n",
            "Epoch 44/100\n",
            "89/89 [==============================] - 2s 24ms/step - loss: 0.0020 - val_loss: 0.0023\n",
            "Epoch 45/100\n",
            "89/89 [==============================] - 2s 24ms/step - loss: 0.0020 - val_loss: 0.0024\n",
            "Epoch 46/100\n",
            "89/89 [==============================] - 2s 24ms/step - loss: 0.0020 - val_loss: 0.0022\n",
            "Epoch 47/100\n",
            "89/89 [==============================] - 2s 24ms/step - loss: 0.0020 - val_loss: 0.0022\n",
            "Epoch 48/100\n",
            "89/89 [==============================] - 2s 24ms/step - loss: 0.0019 - val_loss: 0.0022\n",
            "Epoch 49/100\n",
            "89/89 [==============================] - 2s 24ms/step - loss: 0.0020 - val_loss: 0.0023\n",
            "Epoch 50/100\n",
            "89/89 [==============================] - 2s 24ms/step - loss: 0.0020 - val_loss: 0.0024\n",
            "Epoch 51/100\n",
            "89/89 [==============================] - 2s 24ms/step - loss: 0.0019 - val_loss: 0.0026\n",
            "Epoch 52/100\n",
            "89/89 [==============================] - 2s 24ms/step - loss: 0.0020 - val_loss: 0.0024\n",
            "Epoch 53/100\n",
            "89/89 [==============================] - 2s 24ms/step - loss: 0.0020 - val_loss: 0.0024\n",
            "Epoch 54/100\n",
            "89/89 [==============================] - 2s 24ms/step - loss: 0.0020 - val_loss: 0.0024\n",
            "Epoch 55/100\n",
            "89/89 [==============================] - 2s 24ms/step - loss: 0.0019 - val_loss: 0.0022\n",
            "Epoch 56/100\n",
            "89/89 [==============================] - 2s 24ms/step - loss: 0.0020 - val_loss: 0.0023\n",
            "Epoch 57/100\n",
            "89/89 [==============================] - 2s 24ms/step - loss: 0.0019 - val_loss: 0.0025\n",
            "Epoch 58/100\n",
            "89/89 [==============================] - 2s 24ms/step - loss: 0.0020 - val_loss: 0.0022\n",
            "Epoch 59/100\n",
            "89/89 [==============================] - 2s 24ms/step - loss: 0.0020 - val_loss: 0.0022\n",
            "Epoch 60/100\n",
            "89/89 [==============================] - 2s 24ms/step - loss: 0.0020 - val_loss: 0.0022\n",
            "Epoch 61/100\n",
            "89/89 [==============================] - 2s 24ms/step - loss: 0.0019 - val_loss: 0.0024\n",
            "Epoch 62/100\n",
            "89/89 [==============================] - 2s 24ms/step - loss: 0.0020 - val_loss: 0.0024\n",
            "Epoch 63/100\n",
            "89/89 [==============================] - 2s 24ms/step - loss: 0.0019 - val_loss: 0.0026\n",
            "Epoch 64/100\n",
            "89/89 [==============================] - 2s 24ms/step - loss: 0.0019 - val_loss: 0.0028\n",
            "Epoch 65/100\n",
            "89/89 [==============================] - 2s 24ms/step - loss: 0.0019 - val_loss: 0.0027\n",
            "Epoch 66/100\n",
            "89/89 [==============================] - 2s 24ms/step - loss: 0.0019 - val_loss: 0.0024\n",
            "Epoch 67/100\n",
            "89/89 [==============================] - 2s 24ms/step - loss: 0.0019 - val_loss: 0.0026\n",
            "Epoch 68/100\n",
            "89/89 [==============================] - 2s 24ms/step - loss: 0.0019 - val_loss: 0.0028\n",
            "Epoch 69/100\n",
            "89/89 [==============================] - 2s 24ms/step - loss: 0.0019 - val_loss: 0.0028\n",
            "Epoch 70/100\n",
            "89/89 [==============================] - 2s 24ms/step - loss: 0.0019 - val_loss: 0.0025\n",
            "Epoch 71/100\n",
            "89/89 [==============================] - 2s 24ms/step - loss: 0.0019 - val_loss: 0.0025\n",
            "Epoch 72/100\n",
            "89/89 [==============================] - 2s 24ms/step - loss: 0.0019 - val_loss: 0.0026\n",
            "Epoch 73/100\n",
            "89/89 [==============================] - 2s 24ms/step - loss: 0.0019 - val_loss: 0.0026\n",
            "Epoch 74/100\n",
            "89/89 [==============================] - 2s 24ms/step - loss: 0.0019 - val_loss: 0.0023\n",
            "Epoch 75/100\n",
            "89/89 [==============================] - 2s 24ms/step - loss: 0.0019 - val_loss: 0.0023\n",
            "Epoch 76/100\n",
            "89/89 [==============================] - 2s 24ms/step - loss: 0.0019 - val_loss: 0.0024\n",
            "Epoch 77/100\n",
            "89/89 [==============================] - 2s 24ms/step - loss: 0.0019 - val_loss: 0.0027\n",
            "Epoch 78/100\n",
            "89/89 [==============================] - 2s 24ms/step - loss: 0.0019 - val_loss: 0.0025\n",
            "Epoch 79/100\n",
            "89/89 [==============================] - 2s 24ms/step - loss: 0.0019 - val_loss: 0.0027\n",
            "Epoch 80/100\n",
            "89/89 [==============================] - 2s 24ms/step - loss: 0.0019 - val_loss: 0.0025\n",
            "Epoch 81/100\n",
            "89/89 [==============================] - 2s 24ms/step - loss: 0.0019 - val_loss: 0.0027\n",
            "Epoch 82/100\n",
            "89/89 [==============================] - 2s 24ms/step - loss: 0.0019 - val_loss: 0.0026\n",
            "Epoch 83/100\n",
            "89/89 [==============================] - 2s 25ms/step - loss: 0.0046 - val_loss: 0.0067\n",
            "Epoch 84/100\n",
            "89/89 [==============================] - 2s 25ms/step - loss: 0.0030 - val_loss: 0.0029\n",
            "Epoch 85/100\n",
            "89/89 [==============================] - 2s 25ms/step - loss: 0.0029 - val_loss: 0.0030\n",
            "Epoch 86/100\n",
            "89/89 [==============================] - 2s 25ms/step - loss: 0.0024 - val_loss: 0.0029\n",
            "Epoch 87/100\n",
            "89/89 [==============================] - 2s 25ms/step - loss: 0.0023 - val_loss: 0.0027\n",
            "Epoch 88/100\n",
            "89/89 [==============================] - 2s 24ms/step - loss: 0.0023 - val_loss: 0.0024\n",
            "Epoch 89/100\n",
            "89/89 [==============================] - 2s 25ms/step - loss: 0.0022 - val_loss: 0.0021\n",
            "Epoch 90/100\n",
            "89/89 [==============================] - 2s 25ms/step - loss: 0.0022 - val_loss: 0.0022\n",
            "Epoch 91/100\n",
            "89/89 [==============================] - 2s 25ms/step - loss: 0.0022 - val_loss: 0.0021\n",
            "Epoch 92/100\n",
            "89/89 [==============================] - 2s 25ms/step - loss: 0.0022 - val_loss: 0.0021\n",
            "Epoch 93/100\n",
            "89/89 [==============================] - 2s 25ms/step - loss: 0.0022 - val_loss: 0.0021\n",
            "Epoch 94/100\n",
            "89/89 [==============================] - 2s 24ms/step - loss: 0.0021 - val_loss: 0.0021\n",
            "Epoch 95/100\n",
            "89/89 [==============================] - 2s 25ms/step - loss: 0.0021 - val_loss: 0.0021\n",
            "Epoch 96/100\n",
            "89/89 [==============================] - 2s 25ms/step - loss: 0.0021 - val_loss: 0.0020\n",
            "Epoch 97/100\n",
            "89/89 [==============================] - 2s 25ms/step - loss: 0.0021 - val_loss: 0.0020\n",
            "Epoch 98/100\n",
            "89/89 [==============================] - 2s 25ms/step - loss: 0.0021 - val_loss: 0.0021\n",
            "Epoch 99/100\n",
            "89/89 [==============================] - 2s 25ms/step - loss: 0.0022 - val_loss: 0.0020\n",
            "Epoch 100/100\n",
            "89/89 [==============================] - 2s 24ms/step - loss: 0.0021 - val_loss: 0.0021\n"
          ]
        },
        {
          "output_type": "execute_result",
          "data": {
            "text/plain": [
              "<keras.callbacks.History at 0x7f09d83d2690>"
            ]
          },
          "metadata": {},
          "execution_count": 169
        }
      ]
    },
    {
      "cell_type": "code",
      "source": [
        "y_pred_ensemble = scaler.inverse_transform(ensemble_model.predict(x_test))\n",
        "\n",
        "rmse_score_ensemble = math.sqrt(mean_squared_error(y_test_original, y_pred_ensemble))\n",
        "print('Root Mean Squared Error : ',rmse_score_ensemble)\n",
        "print('R-squared Score  : ',r2_score(y_test_original,y_pred_ensemble))"
      ],
      "metadata": {
        "colab": {
          "base_uri": "https://localhost:8080/"
        },
        "id": "nCwGN50I66jb",
        "outputId": "dffc4741-c6c3-43d7-e999-80f5559288fe"
      },
      "execution_count": null,
      "outputs": [
        {
          "output_type": "stream",
          "name": "stdout",
          "text": [
            "Root Mean Squared Error :  3.3941193160606593\n",
            "R-squared Score  :  0.6008511935077527\n"
          ]
        }
      ]
    },
    {
      "cell_type": "code",
      "source": [
        "plot_model(ensemble_model, show_shapes=True)"
      ],
      "metadata": {
        "colab": {
          "base_uri": "https://localhost:8080/",
          "height": 422
        },
        "id": "QD5Kgi0d66hY",
        "outputId": "73c58308-b403-4895-f36d-316928bb8420"
      },
      "execution_count": null,
      "outputs": [
        {
          "output_type": "execute_result",
          "data": {
            "image/png": "[encoded data removed]",
            "text/plain": [
              "<IPython.core.display.Image object>"
            ]
          },
          "metadata": {},
          "execution_count": 171
        }
      ]
    },
    {
      "cell_type": "code",
      "source": [
        "ensemble_model.save(\"/models/ensemble_model.h5\")"
      ],
      "metadata": {
        "id": "SKIN6ahv66ea"
      },
      "execution_count": null,
      "outputs": []
    },
    {
      "cell_type": "markdown",
      "source": [
        "# Visualizing Predictions"
      ],
      "metadata": {
        "id": "WMm5YjPtFn-6"
      }
    },
    {
      "cell_type": "code",
      "source": [
        "# load model\n",
        "dnn_model = load_model('/models/dnn_model.h5')\n",
        "rnn_model = load_model('/models/rnn_model.h5')\n",
        "cnn_model = load_model('/models/cnn_model.h5')\n",
        "ensemble_model = load_model('/models/ensemble_model.h5')"
      ],
      "metadata": {
        "id": "NEFmLQdgHK9p"
      },
      "execution_count": 31,
      "outputs": []
    },
    {
      "cell_type": "code",
      "execution_count": 32,
      "metadata": {
        "id": "-YN8NRf4ERPb"
      },
      "outputs": [],
      "source": [
        "# predictions of models\n",
        "test_predict_dnn = scaler.inverse_transform(dnn_model.predict(x_test))\n",
        "test_predict_rnn = scaler.inverse_transform(rnn_model.predict(x_test))\n",
        "test_predict_cnn = scaler.inverse_transform(cnn_model.predict(x_test))\n",
        "test_predict_ensemble = scaler.inverse_transform(ensemble_model.predict(x_test))"
      ]
    },
    {
      "cell_type": "code",
      "source": [
        "#Plotting DNN Prediction\n",
        "testPredictPlot_dnn = np.empty_like(test_data)\n",
        "testPredictPlot_dnn[:, :] = np.nan\n",
        "testPredictPlot_dnn[window_size:len(test_predict_dnn)+window_size, :] = test_predict_dnn\n",
        "\n",
        "plt.plot(scaler.inverse_transform(test_data), label='True Data')\n",
        "plt.plot(testPredictPlot_dnn, label='DNN Predictions')\n",
        "plt.legend()\n",
        "plt.show()"
      ],
      "metadata": {
        "colab": {
          "base_uri": "https://localhost:8080/",
          "height": 265
        },
        "id": "YwKBmnK9NrCs",
        "outputId": "fad37245-70b2-41e5-c325-4174d3f9b595"
      },
      "execution_count": 33,
      "outputs": [
        {
          "output_type": "display_data",
          "data": {
            "image/png": "[encoded data removed]",
            "text/plain": [
              "<Figure size 432x288 with 1 Axes>"
            ]
          },
          "metadata": {
            "needs_background": "light"
          }
        }
      ]
    },
    {
      "cell_type": "code",
      "source": [
        "#Plotting RNN Prediction\n",
        "testPredictPlot_rnn = np.empty_like(test_data)\n",
        "testPredictPlot_rnn[:, :] = np.nan\n",
        "testPredictPlot_rnn[window_size:len(test_predict_rnn)+window_size, :] = test_predict_rnn\n",
        "\n",
        "plt.plot(scaler.inverse_transform(test_data), label='True Data')\n",
        "plt.plot(testPredictPlot_rnn, label='RNN Predictions')\n",
        "plt.legend()\n",
        "plt.show()"
      ],
      "metadata": {
        "colab": {
          "base_uri": "https://localhost:8080/",
          "height": 265
        },
        "id": "dTDpou0eOQMK",
        "outputId": "d0f2fc34-60f5-4f27-fa16-96d920c8e5b5"
      },
      "execution_count": 34,
      "outputs": [
        {
          "output_type": "display_data",
          "data": {
            "image/png": "[encoded data removed]",
            "text/plain": [
              "<Figure size 432x288 with 1 Axes>"
            ]
          },
          "metadata": {
            "needs_background": "light"
          }
        }
      ]
    },
    {
      "cell_type": "code",
      "source": [
        "#Plotting CNN Prediction\n",
        "testPredictPlot_cnn = np.empty_like(test_data)\n",
        "testPredictPlot_cnn[:, :] = np.nan\n",
        "testPredictPlot_cnn[window_size:len(test_predict_cnn)+window_size, :] = test_predict_cnn\n",
        "\n",
        "plt.plot(scaler.inverse_transform(test_data), label='True Data')\n",
        "plt.plot(testPredictPlot_cnn, label='CNN Predictions')\n",
        "plt.legend()\n",
        "plt.show()"
      ],
      "metadata": {
        "colab": {
          "base_uri": "https://localhost:8080/",
          "height": 265
        },
        "id": "WHs6yqRlNzE9",
        "outputId": "59411ef1-75eb-4527-dbbb-a3722c966053"
      },
      "execution_count": 35,
      "outputs": [
        {
          "output_type": "display_data",
          "data": {
            "image/png": "[encoded data removed]",
            "text/plain": [
              "<Figure size 432x288 with 1 Axes>"
            ]
          },
          "metadata": {
            "needs_background": "light"
          }
        }
      ]
    },
    {
      "cell_type": "code",
      "source": [
        "#Plotting Ensemble Model Prediction\n",
        "testPredictPlot_ensemble = np.empty_like(test_data)\n",
        "testPredictPlot_ensemble[:, :] = np.nan\n",
        "testPredictPlot_ensemble[window_size:len(test_predict_ensemble)+window_size, :] = test_predict_ensemble\n",
        "\n",
        "plt.plot(scaler.inverse_transform(test_data), label='True Data')\n",
        "plt.plot(testPredictPlot_ensemble, label='Ensemble Model Predictions')\n",
        "plt.legend()\n",
        "plt.show()"
      ],
      "metadata": {
        "id": "ixOGi3adN6Yx",
        "colab": {
          "base_uri": "https://localhost:8080/",
          "height": 265
        },
        "outputId": "ec71760e-48b1-4946-d97e-08155486ff57"
      },
      "execution_count": 36,
      "outputs": [
        {
          "output_type": "display_data",
          "data": {
            "image/png": "[encoded data removed]",
            "text/plain": [
              "<Figure size 432x288 with 1 Axes>"
            ]
          },
          "metadata": {
            "needs_background": "light"
          }
        }
      ]
    },
    {
      "cell_type": "code",
      "source": [
        ""
      ],
      "metadata": {
        "id": "VfGrlByp3WbD"
      },
      "execution_count": null,
      "outputs": []
    }
  ],
  "metadata": {
    "accelerator": "GPU",
    "colab": {
      "collapsed_sections": [
        "nF_26OnPOAFC"
      ],
      "name": "Copy of Final Nevada_PM2.5.ipynb",
      "provenance": []
    },
    "kernelspec": {
      "display_name": "Python 3",
      "language": "python",
      "name": "python3"
    },
    "language_info": {
      "codemirror_mode": {
        "name": "ipython",
        "version": 3
      },
      "file_extension": ".py",
      "mimetype": "text/x-python",
      "name": "python",
      "nbconvert_exporter": "python",
      "pygments_lexer": "ipython3",
      "version": "3.8.5"
    }
  },
  "nbformat": 4,
  "nbformat_minor": 0
}